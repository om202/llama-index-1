{
  "cells": [
    {
      "cell_type": "markdown",
      "metadata": {
        "id": "7GWvKKFRdxvP"
      },
      "source": [
        "# StepWise Controllable Agent\n",
        "\n",
        "This notebook introduces you to our advanced lower-level agent API designed to provide enhanced functionality beyond just executing user queries.\n",
        "\n",
        "It will help you in creating tasks, navigating through various steps.\n"
      ]
    },
    {
      "cell_type": "code",
      "execution_count": 1,
      "metadata": {
        "id": "dd8MzkGuLhtq"
      },
      "outputs": [
        {
          "name": "stderr",
          "output_type": "stream",
          "text": [
            "/Users/omprakash/lama-index/.venv/lib/python3.9/site-packages/urllib3/__init__.py:35: NotOpenSSLWarning: urllib3 v2 only supports OpenSSL 1.1.1+, currently the 'ssl' module is compiled with 'LibreSSL 2.8.3'. See: https://github.com/urllib3/urllib3/issues/3020\n",
            "  warnings.warn(\n",
            "/Users/omprakash/lama-index/.venv/lib/python3.9/site-packages/tqdm/auto.py:21: TqdmWarning: IProgress not found. Please update jupyter and ipywidgets. See https://ipywidgets.readthedocs.io/en/stable/user_install.html\n",
            "  from .autonotebook import tqdm as notebook_tqdm\n"
          ]
        }
      ],
      "source": [
        "from llama_index.llms.openai import OpenAI\n",
        "from llama_index.core.llms import ChatMessage\n",
        "from llama_index.core.tools import BaseTool, FunctionTool\n",
        "from llama_index.core.agent import FunctionCallingAgentWorker\n",
        "from llama_index.core.agent import AgentRunner, ReActAgent"
      ]
    },
    {
      "cell_type": "markdown",
      "metadata": {
        "id": "7P9mk2q2pR3P"
      },
      "source": [
        "## Setup API Key"
      ]
    },
    {
      "cell_type": "code",
      "execution_count": null,
      "metadata": {
        "id": "UU0492qhpHyd"
      },
      "outputs": [],
      "source": [
        "import os\n",
        "os.environ['OPENAI_API_KEY'] = 'YOUR OPENAI API KEY'"
      ]
    },
    {
      "cell_type": "markdown",
      "metadata": {
        "id": "CTIyUp1WpchZ"
      },
      "source": [
        "## Simple Calculator Tools"
      ]
    },
    {
      "cell_type": "markdown",
      "metadata": {
        "id": "TiPWsI6PdHRr"
      },
      "source": [
        "### Define Tools"
      ]
    },
    {
      "cell_type": "code",
      "execution_count": null,
      "metadata": {
        "id": "fQW2ccGlLrg7"
      },
      "outputs": [],
      "source": [
        "def multiply(a: int, b: int) -> int:\n",
        "    \"\"\"Multiply two integers and returns the result integer\"\"\"\n",
        "    return a * b\n",
        "\n",
        "def add(a: int, b: int) -> int:\n",
        "    \"\"\"Add two integers and returns the result integer\"\"\"\n",
        "    return a + b\n",
        "\n",
        "def subtract(a: int, b: int) -> int:\n",
        "    \"\"\"Subtract two integers and returns the result integer\"\"\"\n",
        "    return a - b"
      ]
    },
    {
      "cell_type": "code",
      "execution_count": null,
      "metadata": {
        "id": "Bp4NnpPkLycF"
      },
      "outputs": [],
      "source": [
        "multiply_tool = FunctionTool.from_defaults(fn=multiply)\n",
        "add_tool = FunctionTool.from_defaults(fn=add)\n",
        "subtract_tool = FunctionTool.from_defaults(fn=subtract)"
      ]
    },
    {
      "cell_type": "markdown",
      "metadata": {
        "id": "9MuNIhZzMHcm"
      },
      "source": [
        "### Setup Agent"
      ]
    },
    {
      "cell_type": "code",
      "execution_count": null,
      "metadata": {
        "id": "TMOq_oraMDfc"
      },
      "outputs": [],
      "source": [
        "llm = OpenAI(model=\"gpt-4\")\n",
        "agent_worker = FunctionCallingAgentWorker.from_tools(\n",
        "    [multiply_tool, add_tool, subtract_tool],\n",
        "    llm=llm,\n",
        "    verbose=True,\n",
        "    allow_parallel_tool_calls=False,\n",
        ")\n",
        "agent = AgentRunner(agent_worker)"
      ]
    },
    {
      "cell_type": "code",
      "execution_count": null,
      "metadata": {
        "colab": {
          "base_uri": "https://localhost:8080/"
        },
        "id": "IPU4KUHMVu1Z",
        "outputId": "5308a956-c784-4000-f68f-b045d9a6c11b"
      },
      "outputs": [
        {
          "name": "stdout",
          "output_type": "stream",
          "text": [
            "Added user message to memory: What is 20+(2*4)-8?\n",
            "=== Calling Function ===\n",
            "Calling function: multiply with args: {\"a\": 2, \"b\": 4}\n",
            "=== Function Output ===\n",
            "8\n",
            "=== Calling Function ===\n",
            "Calling function: add with args: {\"a\": 20, \"b\": 8}\n",
            "=== Function Output ===\n",
            "28\n",
            "=== Calling Function ===\n",
            "Calling function: subtract with args: {\"a\": 28, \"b\": 8}\n",
            "=== Function Output ===\n",
            "20\n",
            "=== LLM Response ===\n",
            "The result of the operation 20+(2*4)-8 is 20.\n"
          ]
        }
      ],
      "source": [
        "response = agent.chat(\"What is 20+(2*4)-8?\")"
      ]
    },
    {
      "cell_type": "code",
      "execution_count": null,
      "metadata": {
        "colab": {
          "base_uri": "https://localhost:8080/"
        },
        "id": "4Oubu48XVw81",
        "outputId": "910cbf0f-14c2-49be-f0d3-74a8a5ea2370"
      },
      "outputs": [
        {
          "name": "stdout",
          "output_type": "stream",
          "text": [
            "assistant: The result of the operation 20+(2*4)-8 is 20.\n"
          ]
        }
      ],
      "source": [
        "print(response)"
      ]
    },
    {
      "cell_type": "markdown",
      "metadata": {
        "id": "fdxCUanTpigI"
      },
      "source": [
        "### StepWise Execution"
      ]
    },
    {
      "cell_type": "code",
      "execution_count": null,
      "metadata": {
        "id": "5u_sLM7gVx91"
      },
      "outputs": [],
      "source": [
        "# start task\n",
        "task = agent.create_task(\"What is 20+(2*4)-8?\")"
      ]
    },
    {
      "cell_type": "code",
      "execution_count": null,
      "metadata": {
        "colab": {
          "base_uri": "https://localhost:8080/"
        },
        "id": "4niNrj5OV0es",
        "outputId": "cf55c655-c242-4284-c2fd-43f4b1f989b8"
      },
      "outputs": [
        {
          "name": "stdout",
          "output_type": "stream",
          "text": [
            "Added user message to memory: What is 20+(2*4)-8?\n",
            "=== Calling Function ===\n",
            "Calling function: multiply with args: {\"a\": 2, \"b\": 4}\n",
            "=== Function Output ===\n",
            "8\n"
          ]
        }
      ],
      "source": [
        "step_output = agent.run_step(task.task_id)"
      ]
    },
    {
      "cell_type": "code",
      "execution_count": null,
      "metadata": {
        "colab": {
          "base_uri": "https://localhost:8080/"
        },
        "id": "zpfYxeIqjWNo",
        "outputId": "7562ee2c-12da-4855-c197-ff17e49c47b2"
      },
      "outputs": [
        {
          "data": {
            "text/plain": [
              "TaskStepOutput(output=AgentChatResponse(response='assistant: None', sources=[ToolOutput(content='8', tool_name='multiply', raw_input={'args': (), 'kwargs': {'a': 2, 'b': 4}}, raw_output=8, is_error=False)], source_nodes=[], is_dummy_stream=False), task_step=TaskStep(task_id='ade5dc7d-0286-46d8-965f-8761c8053aae', step_id='fb2a4ffe-5f7c-4d80-a803-a16c49772b0b', input='What is 20+(2*4)-8?', step_state={}, next_steps={}, prev_steps={}, is_ready=True), next_steps=[TaskStep(task_id='ade5dc7d-0286-46d8-965f-8761c8053aae', step_id='13daf43a-b061-4cd6-87fe-47d1da610b75', input=None, step_state={}, next_steps={}, prev_steps={}, is_ready=True)], is_last=False)"
            ]
          },
          "execution_count": 11,
          "metadata": {},
          "output_type": "execute_result"
        }
      ],
      "source": [
        "step_output"
      ]
    },
    {
      "cell_type": "code",
      "execution_count": null,
      "metadata": {
        "colab": {
          "base_uri": "https://localhost:8080/"
        },
        "id": "VD07qXaWj935",
        "outputId": "0282cbfc-4824-43e0-ddce-3d05f7647195"
      },
      "outputs": [
        {
          "name": "stdout",
          "output_type": "stream",
          "text": [
            "False\n"
          ]
        }
      ],
      "source": [
        "# Check if its last step\n",
        "print(step_output.is_last)"
      ]
    },
    {
      "cell_type": "code",
      "execution_count": null,
      "metadata": {
        "colab": {
          "base_uri": "https://localhost:8080/"
        },
        "id": "5xdstejWjZE-",
        "outputId": "66696de3-4b3b-445e-d5ad-96ee9a56ef09"
      },
      "outputs": [
        {
          "name": "stdout",
          "output_type": "stream",
          "text": [
            "=== Calling Function ===\n",
            "Calling function: add with args: {\"a\": 20, \"b\": 8}\n",
            "=== Function Output ===\n",
            "28\n"
          ]
        }
      ],
      "source": [
        "step_output = agent.run_step(task.task_id)"
      ]
    },
    {
      "cell_type": "code",
      "execution_count": null,
      "metadata": {
        "colab": {
          "base_uri": "https://localhost:8080/"
        },
        "id": "LEjcH2-njfNV",
        "outputId": "d4b935fb-cd9b-4b3f-d706-51683c4ff4a3"
      },
      "outputs": [
        {
          "name": "stdout",
          "output_type": "stream",
          "text": [
            "False\n"
          ]
        }
      ],
      "source": [
        "# Check if its last step\n",
        "print(step_output.is_last)"
      ]
    },
    {
      "cell_type": "code",
      "execution_count": null,
      "metadata": {
        "colab": {
          "base_uri": "https://localhost:8080/"
        },
        "id": "g55G08g6jcSH",
        "outputId": "82c0cb76-9431-4bff-e27f-084034d42684"
      },
      "outputs": [
        {
          "name": "stdout",
          "output_type": "stream",
          "text": [
            "=== Calling Function ===\n",
            "Calling function: subtract with args: {\"a\": 28, \"b\": 8}\n",
            "=== Function Output ===\n",
            "20\n"
          ]
        }
      ],
      "source": [
        "step_output = agent.run_step(task.task_id)"
      ]
    },
    {
      "cell_type": "code",
      "execution_count": null,
      "metadata": {
        "colab": {
          "base_uri": "https://localhost:8080/"
        },
        "id": "TPqmfIv73WLT",
        "outputId": "c05f28b7-aafc-4189-c264-61dad623cde3"
      },
      "outputs": [
        {
          "name": "stdout",
          "output_type": "stream",
          "text": [
            "False\n"
          ]
        }
      ],
      "source": [
        "# Check if its last step\n",
        "print(step_output.is_last)"
      ]
    },
    {
      "cell_type": "code",
      "execution_count": null,
      "metadata": {
        "colab": {
          "base_uri": "https://localhost:8080/"
        },
        "id": "PimFUNApj4Ww",
        "outputId": "d38226f8-8d6b-4191-cbf9-01c730664e0d"
      },
      "outputs": [
        {
          "name": "stdout",
          "output_type": "stream",
          "text": [
            "=== LLM Response ===\n",
            "The result of the operation 20+(2*4)-8 is 20.\n"
          ]
        }
      ],
      "source": [
        "step_output = agent.run_step(task.task_id)"
      ]
    },
    {
      "cell_type": "code",
      "execution_count": null,
      "metadata": {
        "colab": {
          "base_uri": "https://localhost:8080/"
        },
        "id": "trbDV3vFj6zC",
        "outputId": "c23c8e4b-6f6e-4dae-f29d-07a8c441c6d6"
      },
      "outputs": [
        {
          "name": "stdout",
          "output_type": "stream",
          "text": [
            "True\n"
          ]
        }
      ],
      "source": [
        "# Check if its last step\n",
        "print(step_output.is_last)"
      ]
    },
    {
      "cell_type": "code",
      "execution_count": null,
      "metadata": {
        "colab": {
          "base_uri": "https://localhost:8080/"
        },
        "id": "cfE7i9vFjiBk",
        "outputId": "b644d4c5-f1b8-4740-93e4-6421fcdfd739"
      },
      "outputs": [
        {
          "name": "stdout",
          "output_type": "stream",
          "text": [
            "assistant: The result of the operation 20+(2*4)-8 is 20.\n"
          ]
        }
      ],
      "source": [
        "# now that the step execution is done, we can finalize response\n",
        "response = agent.finalize_response(task.task_id)\n",
        "print(str(response))"
      ]
    },
    {
      "cell_type": "markdown",
      "metadata": {
        "id": "QMlBJu2vdUU2"
      },
      "source": [
        "## RAG QueryEngine Tools"
      ]
    },
    {
      "cell_type": "code",
      "execution_count": null,
      "metadata": {
        "id": "xEY6G0JtXuMo"
      },
      "outputs": [],
      "source": [
        "from llama_index.core import (\n",
        "    SimpleDirectoryReader,\n",
        "    VectorStoreIndex,\n",
        "    StorageContext,\n",
        "    load_index_from_storage,\n",
        ")\n",
        "\n",
        "from llama_index.core.tools import QueryEngineTool, ToolMetadata"
      ]
    },
    {
      "cell_type": "markdown",
      "metadata": {
        "id": "yUnO5ZX8dYJA"
      },
      "source": [
        "### Download Data"
      ]
    },
    {
      "cell_type": "code",
      "execution_count": null,
      "metadata": {
        "colab": {
          "base_uri": "https://localhost:8080/"
        },
        "id": "LA0rmS5IbOhv",
        "outputId": "210daa80-05a0-44a5-a2bd-daa7846b6d2b"
      },
      "outputs": [
        {
          "name": "stdout",
          "output_type": "stream",
          "text": [
            "--2024-04-13 00:31:47--  https://raw.githubusercontent.com/run-llama/llama_index/main/docs/docs/examples/data/10q/uber_10q_march_2022.pdf\n",
            "Resolving raw.githubusercontent.com (raw.githubusercontent.com)... 185.199.110.133, 185.199.108.133, 185.199.109.133, ...\n",
            "Connecting to raw.githubusercontent.com (raw.githubusercontent.com)|185.199.110.133|:443... connected.\n",
            "HTTP request sent, awaiting response... 200 OK\n",
            "Length: 1260185 (1.2M) [application/octet-stream]\n",
            "Saving to: ‘data/10q/uber_10q_march_2022.pdf’\n",
            "\n",
            "\r          data/10q/   0%[                    ]       0  --.-KB/s               \rdata/10q/uber_10q_m 100%[===================>]   1.20M  --.-KB/s    in 0.05s   \n",
            "\n",
            "2024-04-13 00:31:48 (22.0 MB/s) - ‘data/10q/uber_10q_march_2022.pdf’ saved [1260185/1260185]\n",
            "\n",
            "--2024-04-13 00:31:48--  https://raw.githubusercontent.com/run-llama/llama_index/main/docs/docs/examples/data/10q/uber_10q_june_2022.pdf\n",
            "Resolving raw.githubusercontent.com (raw.githubusercontent.com)... 185.199.108.133, 185.199.109.133, 185.199.110.133, ...\n",
            "Connecting to raw.githubusercontent.com (raw.githubusercontent.com)|185.199.108.133|:443... connected.\n",
            "HTTP request sent, awaiting response... 200 OK\n",
            "Length: 1238483 (1.2M) [application/octet-stream]\n",
            "Saving to: ‘data/10q/uber_10q_june_2022.pdf’\n",
            "\n",
            "data/10q/uber_10q_j 100%[===================>]   1.18M  --.-KB/s    in 0.05s   \n",
            "\n",
            "2024-04-13 00:31:48 (21.7 MB/s) - ‘data/10q/uber_10q_june_2022.pdf’ saved [1238483/1238483]\n",
            "\n",
            "--2024-04-13 00:31:48--  https://raw.githubusercontent.com/run-llama/llama_index/main/docs/docs/examples/data/10q/uber_10q_sept_2022.pdf\n",
            "Resolving raw.githubusercontent.com (raw.githubusercontent.com)... 185.199.109.133, 185.199.111.133, 185.199.108.133, ...\n",
            "Connecting to raw.githubusercontent.com (raw.githubusercontent.com)|185.199.109.133|:443... connected.\n",
            "HTTP request sent, awaiting response... 200 OK\n",
            "Length: 1178622 (1.1M) [application/octet-stream]\n",
            "Saving to: ‘data/10q/uber_10q_sept_2022.pdf’\n",
            "\n",
            "data/10q/uber_10q_s 100%[===================>]   1.12M  --.-KB/s    in 0.05s   \n",
            "\n",
            "2024-04-13 00:31:49 (20.9 MB/s) - ‘data/10q/uber_10q_sept_2022.pdf’ saved [1178622/1178622]\n",
            "\n"
          ]
        }
      ],
      "source": [
        "!mkdir -p 'data/10q/'\n",
        "!wget 'https://raw.githubusercontent.com/run-llama/llama_index/main/docs/docs/examples/data/10q/uber_10q_march_2022.pdf' -O 'data/10q/uber_10q_march_2022.pdf'\n",
        "!wget 'https://raw.githubusercontent.com/run-llama/llama_index/main/docs/docs/examples/data/10q/uber_10q_june_2022.pdf' -O 'data/10q/uber_10q_june_2022.pdf'\n",
        "!wget 'https://raw.githubusercontent.com/run-llama/llama_index/main/docs/docs/examples/data/10q/uber_10q_sept_2022.pdf' -O 'data/10q/uber_10q_sept_2022.pdf'"
      ]
    },
    {
      "cell_type": "markdown",
      "metadata": {
        "id": "DlhxgDAhdanb"
      },
      "source": [
        "### Load Data"
      ]
    },
    {
      "cell_type": "code",
      "execution_count": null,
      "metadata": {
        "id": "h3kycd7CbRDe"
      },
      "outputs": [],
      "source": [
        "march_2022 = SimpleDirectoryReader(\n",
        "    input_files=[\"./data/10q/uber_10q_march_2022.pdf\"]\n",
        ").load_data()\n",
        "june_2022 = SimpleDirectoryReader(\n",
        "    input_files=[\"./data/10q/uber_10q_june_2022.pdf\"]\n",
        ").load_data()\n",
        "sept_2022 = SimpleDirectoryReader(\n",
        "    input_files=[\"./data/10q/uber_10q_sept_2022.pdf\"]\n",
        ").load_data()"
      ]
    },
    {
      "cell_type": "markdown",
      "metadata": {
        "id": "qZsjutZYde9R"
      },
      "source": [
        "### Define Tools"
      ]
    },
    {
      "cell_type": "code",
      "execution_count": null,
      "metadata": {
        "id": "hibIsja5bUlb"
      },
      "outputs": [],
      "source": [
        "import os\n",
        "\n",
        "\n",
        "def get_tool(name, full_name, documents=None):\n",
        "    if not os.path.exists(f\"./data/{name}\"):\n",
        "        # build vector index\n",
        "        vector_index = VectorStoreIndex.from_documents(documents)\n",
        "        vector_index.storage_context.persist(persist_dir=f\"./data/{name}\")\n",
        "    else:\n",
        "        vector_index = load_index_from_storage(\n",
        "            StorageContext.from_defaults(persist_dir=f\"./data/{name}\"),\n",
        "        )\n",
        "    query_engine = vector_index.as_query_engine(similarity_top_k=3, llm=llm)\n",
        "    query_engine_tool = QueryEngineTool(\n",
        "        query_engine=query_engine,\n",
        "        metadata=ToolMetadata(\n",
        "            name=name,\n",
        "            description=(\n",
        "                \"Provides information about Uber quarterly financials ending\"\n",
        "                f\" {full_name}\"\n",
        "            ),\n",
        "        ),\n",
        "    )\n",
        "    return query_engine_tool"
      ]
    },
    {
      "cell_type": "code",
      "execution_count": null,
      "metadata": {
        "id": "jidXn8xCbXHF"
      },
      "outputs": [],
      "source": [
        "march_tool = get_tool(\"march_2022\", \"March 2022\", documents=march_2022)\n",
        "june_tool = get_tool(\"june_2022\", \"June 2022\", documents=june_2022)\n",
        "sept_tool = get_tool(\"sept_2022\", \"September 2022\", documents=sept_2022)"
      ]
    },
    {
      "cell_type": "code",
      "execution_count": null,
      "metadata": {
        "id": "WXBK1i_mkdyl"
      },
      "outputs": [],
      "source": [
        "query_engine_tools = [march_tool, june_tool, sept_tool]"
      ]
    },
    {
      "cell_type": "markdown",
      "metadata": {
        "id": "2t989Ex3p0lB"
      },
      "source": [
        "### Create Agent"
      ]
    },
    {
      "cell_type": "code",
      "execution_count": null,
      "metadata": {
        "id": "B04E947-082L"
      },
      "outputs": [],
      "source": [
        "llm = OpenAI('gpt-4')\n",
        "\n",
        "agent_worker = FunctionCallingAgentWorker.from_tools(\n",
        "    query_engine_tools,\n",
        "    llm=llm,\n",
        "    verbose=True,\n",
        "    allow_parallel_tool_calls=False,\n",
        ")\n",
        "agent = AgentRunner(agent_worker)"
      ]
    },
    {
      "cell_type": "markdown",
      "metadata": {
        "id": "heCWLjBCp3Ph"
      },
      "source": [
        "#### Direct Execution"
      ]
    },
    {
      "cell_type": "code",
      "execution_count": null,
      "metadata": {
        "colab": {
          "base_uri": "https://localhost:8080/"
        },
        "id": "TwXTmRo70-fP",
        "outputId": "ac13e39a-496d-4ccd-a03a-b3292578a6e3"
      },
      "outputs": [
        {
          "name": "stdout",
          "output_type": "stream",
          "text": [
            "Added user message to memory: Analyze the changes in R&D expenditures and revenue.\n",
            "=== LLM Response ===\n",
            "To analyze the changes in R&D expenditures and revenue, we need to fetch the data for the respective quarters. Let's start with the first quarter ending in March 2022.\n",
            "=== Calling Function ===\n",
            "Calling function: march_2022 with args: {\"input\": \"R&D expenditures and revenue\"}\n",
            "=== Function Output ===\n",
            "Research and development expenditures for Uber increased by $72 million, or 14%, from $515 million in 2021 to $587 million in 2022. This increase was primarily due to a $63 million increase in stock-based compensation expense. The percentage of revenue attributed to research and development decreased from 18% in 2021 to 9% in 2022. \n",
            "\n",
            "On the other hand, Uber's revenue increased by $4.0 billion, or 136%, from $2,903 million in 2021 to $6,854 million in 2022. This increase was primarily driven by a 35% increase in Gross Bookings, a $1.5 billion increase in Freight revenue due to the acquisition of Transplace, and a $304 million increase in Delivery revenue. There was also a $200 million increase in Mobility revenue due to business model changes in the UK.\n",
            "=== LLM Response ===\n",
            "In the first quarter ending in March 2022, Uber's R&D expenditures increased by $72 million, or 14%, from $515 million in 2021 to $587 million in 2022. This increase was primarily due to a $63 million increase in stock-based compensation expense. However, the percentage of revenue attributed to research and development decreased from 18% in 2021 to 9% in 2022. \n",
            "\n",
            "Uber's revenue for the same period increased by $4.0 billion, or 136%, from $2,903 million in 2021 to $6,854 million in 2022. This increase was primarily driven by a 35% increase in Gross Bookings, a $1.5 billion increase in Freight revenue due to the acquisition of Transplace, and a $304 million increase in Delivery revenue. There was also a $200 million increase in Mobility revenue due to business model changes in the UK.\n",
            "\n",
            "Now, let's fetch the data for the second quarter ending in June 2022.\n",
            "=== Calling Function ===\n",
            "Calling function: june_2022 with args: {\"input\": \"R&D expenditures and revenue\"}\n",
            "=== Function Output ===\n",
            "In the three months ending June 30, 2022, Uber's research and development (R&D) expenses increased by $216 million, or 44%, compared to the same period in 2021. This increase was primarily due to a $128 million increase in stock-based compensation and a $90 million increase in employee headcount costs. For the six months ending June 30, 2022, R&D expenses increased by $288 million, or 29%, compared to the same period in 2021. This was mainly due to a $191 million increase in stock-based compensation and a $145 million increase in employee headcount costs. The percentage of revenue spent on R&D was 9% for both the three and six month periods in 2022.\n",
            "=== LLM Response ===\n",
            "In the second quarter ending in June 2022, Uber's R&D expenses increased by $216 million, or 44%, compared to the same period in 2021. This increase was primarily due to a $128 million increase in stock-based compensation and a $90 million increase in employee headcount costs. For the six months ending June 30, 2022, R&D expenses increased by $288 million, or 29%, compared to the same period in 2021. This was mainly due to a $191 million increase in stock-based compensation and a $145 million increase in employee headcount costs. The percentage of revenue spent on R&D was 9% for both the three and six month periods in 2022.\n",
            "\n",
            "Now, let's fetch the data for the third quarter ending in September 2022.\n",
            "=== Calling Function ===\n",
            "Calling function: sept_2022 with args: {\"input\": \"R&D expenditures and revenue\"}\n",
            "=== Function Output ===\n",
            "In the three months ending September 30, 2022, Uber's research and development (R&D) expenses were $760 million, which was a 54% increase from the same period in 2021. For the nine months ending September 30, 2022, R&D expenses were $2,051 million, a 37% increase from the same period in 2021. The R&D expenses as a percentage of revenue were 9% for both the three and nine months periods ending September 30, 2022. The increase in R&D expenses was primarily due to increases in stock-based compensation and employee headcount costs.\n",
            "=== LLM Response ===\n",
            "In the third quarter ending in September 2022, Uber's R&D expenses were $760 million, which was a 54% increase from the same period in 2021. For the nine months ending September 30, 2022, R&D expenses were $2,051 million, a 37% increase from the same period in 2021. The R&D expenses as a percentage of revenue were 9% for both the three and nine months periods ending September 30, 2022. The increase in R&D expenses was primarily due to increases in stock-based compensation and employee headcount costs.\n",
            "\n",
            "In summary, Uber's R&D expenditures have been increasing throughout 2022, primarily due to increases in stock-based compensation and employee headcount costs. However, the percentage of revenue attributed to R&D has remained consistent at 9%. This suggests that while Uber is investing more in R&D, its revenue is growing at a pace that allows the company to maintain its investment in R&D as a consistent percentage of its revenue.\n"
          ]
        }
      ],
      "source": [
        "response = agent.chat(\"Analyze the changes in R&D expenditures and revenue.\")"
      ]
    },
    {
      "cell_type": "code",
      "execution_count": null,
      "metadata": {
        "colab": {
          "base_uri": "https://localhost:8080/"
        },
        "id": "oBHRQ_lk1AAH",
        "outputId": "fb927b0f-6ab7-4bfa-a63d-79c1c2545c2c"
      },
      "outputs": [
        {
          "name": "stdout",
          "output_type": "stream",
          "text": [
            "assistant: In the third quarter ending in September 2022, Uber's R&D expenses were $760 million, which was a 54% increase from the same period in 2021. For the nine months ending September 30, 2022, R&D expenses were $2,051 million, a 37% increase from the same period in 2021. The R&D expenses as a percentage of revenue were 9% for both the three and nine months periods ending September 30, 2022. The increase in R&D expenses was primarily due to increases in stock-based compensation and employee headcount costs.\n",
            "\n",
            "In summary, Uber's R&D expenditures have been increasing throughout 2022, primarily due to increases in stock-based compensation and employee headcount costs. However, the percentage of revenue attributed to R&D has remained consistent at 9%. This suggests that while Uber is investing more in R&D, its revenue is growing at a pace that allows the company to maintain its investment in R&D as a consistent percentage of its revenue.\n"
          ]
        }
      ],
      "source": [
        "print(response)"
      ]
    },
    {
      "cell_type": "markdown",
      "metadata": {
        "id": "JrQSV-HKp6Hw"
      },
      "source": [
        "### Step Wise Execution"
      ]
    },
    {
      "cell_type": "code",
      "execution_count": null,
      "metadata": {
        "id": "70wSIMyZ4fK2"
      },
      "outputs": [],
      "source": [
        "agent_worker = FunctionCallingAgentWorker.from_tools(\n",
        "    query_engine_tools,\n",
        "    llm=llm,\n",
        "    verbose=True,\n",
        "    allow_parallel_tool_calls=False,\n",
        ")\n",
        "agent = AgentRunner(agent_worker)"
      ]
    },
    {
      "cell_type": "code",
      "execution_count": null,
      "metadata": {
        "id": "tLqm0kfB4gkW"
      },
      "outputs": [],
      "source": [
        "# start task\n",
        "task = agent.create_task(\"Analyze the changes in R&D expenditures and revenue.\")"
      ]
    },
    {
      "cell_type": "code",
      "execution_count": null,
      "metadata": {
        "colab": {
          "base_uri": "https://localhost:8080/"
        },
        "id": "XV0vkWPj4h6H",
        "outputId": "045101d9-3a2d-4873-9c95-af3bc80123ca"
      },
      "outputs": [
        {
          "name": "stdout",
          "output_type": "stream",
          "text": [
            "Added user message to memory: Analyze the changes in R&D expenditures and revenue.\n",
            "=== LLM Response ===\n",
            "To analyze the changes in R&D expenditures and revenue, we need to pull the data for these metrics from the quarterly financials. Let's start with the first quarter of 2022.\n",
            "\n",
            "{ \"input\": \"R&D expenditures and revenue\" }\n",
            "=== Calling Function ===\n",
            "Calling function: march_2022 with args: {\"input\": \"R&D expenditures and revenue\"}\n",
            "=== Function Output ===\n",
            "The research and development expenditures for Uber increased from $515 million in the first quarter of 2021 to $587 million in the first quarter of 2022, marking a 14% change. This increase was primarily due to a $63 million increase in stock-based compensation expense. In terms of revenue, Uber saw a significant increase from $2.9 billion in the first quarter of 2021 to $6.85 billion in the first quarter of 2022, a 136% change. This increase in revenue was primarily due to an increase in Gross Bookings, a $1.5 billion increase in Freight revenue, and a $304 million increase in Delivery revenue.\n"
          ]
        }
      ],
      "source": [
        "step_output = agent.run_step(task.task_id)"
      ]
    },
    {
      "cell_type": "code",
      "execution_count": null,
      "metadata": {
        "colab": {
          "base_uri": "https://localhost:8080/"
        },
        "id": "K3hL4MTs4i_x",
        "outputId": "8b5b48c2-4952-4ebe-dc75-ec9d7d92d76a"
      },
      "outputs": [
        {
          "name": "stdout",
          "output_type": "stream",
          "text": [
            "False\n"
          ]
        }
      ],
      "source": [
        "# Check if its last step\n",
        "print(step_output.is_last)"
      ]
    },
    {
      "cell_type": "code",
      "execution_count": null,
      "metadata": {
        "colab": {
          "base_uri": "https://localhost:8080/"
        },
        "id": "48xdWlCN4kKC",
        "outputId": "f4305f11-181f-4fad-c0cc-1402c1185284"
      },
      "outputs": [
        {
          "name": "stdout",
          "output_type": "stream",
          "text": [
            "=== LLM Response ===\n",
            "In the first quarter of 2022, Uber's R&D expenditures increased by 14% from the same period in 2021, rising from $515 million to $587 million. This increase was mainly due to a $63 million increase in stock-based compensation expense. \n",
            "\n",
            "In terms of revenue, there was a significant increase of 136% from $2.9 billion in Q1 2021 to $6.85 billion in Q1 2022. This was primarily due to an increase in Gross Bookings, a $1.5 billion increase in Freight revenue, and a $304 million increase in Delivery revenue.\n",
            "\n",
            "Now, let's look at the data for the second quarter of 2022.\n",
            "\n",
            "{ \"input\": \"R&D expenditures and revenue\" }\n",
            "=== Calling Function ===\n",
            "Calling function: june_2022 with args: {\"input\": \"R&D expenditures and revenue\"}\n",
            "=== Function Output ===\n",
            "In the three months ended June 30, 2022, Uber's research and development expenses increased by $216 million, or 44%, compared to the same period in 2021. This was primarily due to a $128 million increase in stock-based compensation and a $90 million increase in employee headcount costs. For the six months ended June 30, 2022, research and development expenses increased by $288 million, or 29%, compared to the same period in 2021. This was mainly due to a $191 million increase in stock-based compensation and a $145 million increase in employee headcount costs. The percentage of revenue attributed to research and development was 9% for both the three and six months ended June 30, 2022.\n"
          ]
        }
      ],
      "source": [
        "step_output = agent.run_step(task.task_id)"
      ]
    },
    {
      "cell_type": "code",
      "execution_count": null,
      "metadata": {
        "colab": {
          "base_uri": "https://localhost:8080/"
        },
        "id": "8iuL6Xgw1Hvt",
        "outputId": "31fb0176-3e6f-4766-ec6f-3391b91c8573"
      },
      "outputs": [
        {
          "name": "stdout",
          "output_type": "stream",
          "text": [
            "False\n"
          ]
        }
      ],
      "source": [
        "# Check if its last step\n",
        "print(step_output.is_last)"
      ]
    },
    {
      "cell_type": "code",
      "execution_count": null,
      "metadata": {
        "colab": {
          "base_uri": "https://localhost:8080/"
        },
        "id": "PDCES9Ti1JrE",
        "outputId": "d9995f72-37c1-423d-cba4-0b80688cf537"
      },
      "outputs": [
        {
          "name": "stdout",
          "output_type": "stream",
          "text": [
            "=== LLM Response ===\n",
            "In the second quarter of 2022, Uber's R&D expenses increased by 44% compared to the same period in 2021, with an increase of $216 million. This was primarily due to a $128 million increase in stock-based compensation and a $90 million increase in employee headcount costs. \n",
            "\n",
            "For the first half of 2022, R&D expenses increased by 29% compared to the same period in 2021, with an increase of $288 million. This was mainly due to a $191 million increase in stock-based compensation and a $145 million increase in employee headcount costs. \n",
            "\n",
            "The percentage of revenue attributed to research and development was 9% for both the second quarter and the first half of 2022.\n",
            "\n",
            "Now, let's look at the data for the third quarter of 2022.\n",
            "\n",
            "{ \"input\": \"R&D expenditures and revenue\" }\n",
            "=== Calling Function ===\n",
            "Calling function: sept_2022 with args: {\"input\": \"R&D expenditures and revenue\"}\n",
            "=== Function Output ===\n",
            "In 2022, Uber's research and development expenses increased significantly. For the three months ended September 30, 2022, the expenses increased by $267 million, or 54%, compared to the same period in 2021. This was primarily due to a $140 million increase in stock-based compensation and a $129 million increase in employee headcount costs. For the nine months ended September 30, 2022, the expenses increased by $555 million, or 37%, compared to the same period in 2021. This was mainly due to a $331 million increase in stock-based compensation and a $274 million increase in employee headcount costs. The percentage of revenue spent on research and development was 9% for both the three and nine months ended September 30, 2022.\n"
          ]
        }
      ],
      "source": [
        "step_output = agent.run_step(task.task_id)"
      ]
    },
    {
      "cell_type": "code",
      "execution_count": null,
      "metadata": {
        "colab": {
          "base_uri": "https://localhost:8080/"
        },
        "id": "X8qYTXnN1KuD",
        "outputId": "9f8d7e32-e6a4-4d4c-c769-01fc0a26b1aa"
      },
      "outputs": [
        {
          "name": "stdout",
          "output_type": "stream",
          "text": [
            "False\n"
          ]
        }
      ],
      "source": [
        "# Check if its last step\n",
        "print(step_output.is_last)"
      ]
    },
    {
      "cell_type": "code",
      "execution_count": null,
      "metadata": {
        "colab": {
          "base_uri": "https://localhost:8080/"
        },
        "id": "blpbkCnM1L3H",
        "outputId": "06097eb9-2cca-493b-efd7-506cdc533e5a"
      },
      "outputs": [
        {
          "name": "stdout",
          "output_type": "stream",
          "text": [
            "=== LLM Response ===\n",
            "In the third quarter of 2022, Uber's R&D expenses increased by 54% compared to the same period in 2021, with an increase of $267 million. This was primarily due to a $140 million increase in stock-based compensation and a $129 million increase in employee headcount costs. \n",
            "\n",
            "For the first nine months of 2022, R&D expenses increased by 37% compared to the same period in 2021, with an increase of $555 million. This was mainly due to a $331 million increase in stock-based compensation and a $274 million increase in employee headcount costs. \n",
            "\n",
            "The percentage of revenue attributed to research and development was 9% for both the third quarter and the first nine months of 2022.\n",
            "\n",
            "In summary, Uber has been significantly increasing its investment in R&D throughout 2022, with a consistent 9% of revenue being allocated to this area. This increased investment is reflected in the rising costs of stock-based compensation and employee headcount.\n"
          ]
        }
      ],
      "source": [
        "step_output = agent.run_step(task.task_id)"
      ]
    },
    {
      "cell_type": "code",
      "execution_count": null,
      "metadata": {
        "colab": {
          "base_uri": "https://localhost:8080/"
        },
        "id": "r9Hq-aF01NFl",
        "outputId": "87c36119-2adb-4bde-8a2c-1b83044d42ee"
      },
      "outputs": [
        {
          "name": "stdout",
          "output_type": "stream",
          "text": [
            "True\n"
          ]
        }
      ],
      "source": [
        "# Check if its last step\n",
        "print(step_output.is_last)"
      ]
    },
    {
      "cell_type": "code",
      "execution_count": null,
      "metadata": {
        "id": "Ty9bAVWL1OaG"
      },
      "outputs": [],
      "source": [
        "response = agent.finalize_response(task.task_id)"
      ]
    },
    {
      "cell_type": "code",
      "execution_count": null,
      "metadata": {
        "colab": {
          "base_uri": "https://localhost:8080/"
        },
        "id": "lccXh9YL1Plq",
        "outputId": "fbe73af1-0ff6-4370-f37f-eea42ae171fe"
      },
      "outputs": [
        {
          "name": "stdout",
          "output_type": "stream",
          "text": [
            "assistant: In the third quarter of 2022, Uber's R&D expenses increased by 54% compared to the same period in 2021, with an increase of $267 million. This was primarily due to a $140 million increase in stock-based compensation and a $129 million increase in employee headcount costs. \n",
            "\n",
            "For the first nine months of 2022, R&D expenses increased by 37% compared to the same period in 2021, with an increase of $555 million. This was mainly due to a $331 million increase in stock-based compensation and a $274 million increase in employee headcount costs. \n",
            "\n",
            "The percentage of revenue attributed to research and development was 9% for both the third quarter and the first nine months of 2022.\n",
            "\n",
            "In summary, Uber has been significantly increasing its investment in R&D throughout 2022, with a consistent 9% of revenue being allocated to this area. This increased investment is reflected in the rising costs of stock-based compensation and employee headcount.\n"
          ]
        }
      ],
      "source": [
        "print(response)"
      ]
    },
    {
      "cell_type": "markdown",
      "metadata": {
        "id": "XkkkOx3fXJ6b"
      },
      "source": [
        "### Step Wise Execution With Human Feedback"
      ]
    },
    {
      "cell_type": "code",
      "execution_count": null,
      "metadata": {
        "id": "OrmlZgBAofp5"
      },
      "outputs": [],
      "source": [
        "agent_worker = FunctionCallingAgentWorker.from_tools(\n",
        "    query_engine_tools,\n",
        "    llm=llm,\n",
        "    verbose=True,\n",
        "    allow_parallel_tool_calls=False,\n",
        ")\n",
        "agent = AgentRunner(agent_worker)"
      ]
    },
    {
      "cell_type": "code",
      "execution_count": null,
      "metadata": {
        "id": "RFSlzRJPXOtO"
      },
      "outputs": [],
      "source": [
        "# start task\n",
        "task = agent.create_task(\"Analyze the changes in R&D expenditures and revenue.\")"
      ]
    },
    {
      "cell_type": "code",
      "execution_count": null,
      "metadata": {
        "colab": {
          "base_uri": "https://localhost:8080/"
        },
        "id": "ASkslPmZXQ-r",
        "outputId": "26eccfa6-f10c-4ec2-bdf3-ae5a9032852c"
      },
      "outputs": [
        {
          "name": "stdout",
          "output_type": "stream",
          "text": [
            "Added user message to memory: Analyze the changes in R&D expenditures and revenue.\n",
            "=== LLM Response ===\n",
            "To analyze the changes in R&D expenditures and revenue, we need to pull the data for these metrics from the financial reports for the relevant quarters. Let's start with the first quarter of 2022.\n",
            "=== Calling Function ===\n",
            "Calling function: march_2022 with args: {\"input\": \"R&D expenditures and revenue\"}\n",
            "=== Function Output ===\n",
            "The research and development expenditures for Uber increased from $515 million in the first quarter of 2021 to $587 million in the same period in 2022, marking a 14% increase. This increase was primarily due to a $63 million increase in stock-based compensation expense. In terms of revenue, Uber saw a significant increase from $2.9 billion in the first quarter of 2021 to $6.85 billion in the first quarter of 2022, a 136% increase. This increase in revenue was primarily due to a 35% increase in Gross Bookings, a $1.5 billion increase in Freight revenue, and a $304 million increase in Delivery revenue.\n"
          ]
        }
      ],
      "source": [
        "step_output = agent.run_step(task.task_id)"
      ]
    },
    {
      "cell_type": "code",
      "execution_count": null,
      "metadata": {
        "colab": {
          "base_uri": "https://localhost:8080/"
        },
        "id": "iaUvgaqeXTDi",
        "outputId": "22319834-1e69-49fe-db8e-f605b0b33466"
      },
      "outputs": [
        {
          "name": "stdout",
          "output_type": "stream",
          "text": [
            "False\n"
          ]
        }
      ],
      "source": [
        "# Check if its last step\n",
        "print(step_output.is_last)"
      ]
    },
    {
      "cell_type": "code",
      "execution_count": null,
      "metadata": {
        "colab": {
          "base_uri": "https://localhost:8080/"
        },
        "id": "52_o97uoXUzI",
        "outputId": "a669eb73-124e-4889-a42c-05b4c49c9af4"
      },
      "outputs": [
        {
          "name": "stdout",
          "output_type": "stream",
          "text": [
            "Added user message to memory: What about September?\n",
            "=== Calling Function ===\n",
            "Calling function: sept_2022 with args: {\"input\": \"R&D expenditures and revenue\"}\n",
            "=== Function Output ===\n",
            "In the three months ending September 30, 2022, Uber's research and development expenses were $760 million, which was a 54% increase from the same period in 2021. For the nine months ending September 30, 2022, the research and development expenses were $2,051 million, a 37% increase from the same period in 2021. The percentage of revenue spent on research and development was 9% for both the three and nine month periods in 2022. The increase in expenses was primarily due to a rise in stock-based compensation and employee headcount costs.\n"
          ]
        }
      ],
      "source": [
        "step_output = agent.run_step(task.task_id, input='What about September?')"
      ]
    },
    {
      "cell_type": "code",
      "execution_count": null,
      "metadata": {
        "id": "kFeJreFHXkhw"
      },
      "outputs": [],
      "source": []
    }
  ],
  "metadata": {
    "colab": {
      "provenance": []
    },
    "kernelspec": {
      "display_name": "Python 3",
      "name": "python3"
    },
    "language_info": {
      "codemirror_mode": {
        "name": "ipython",
        "version": 3
      },
      "file_extension": ".py",
      "mimetype": "text/x-python",
      "name": "python",
      "nbconvert_exporter": "python",
      "pygments_lexer": "ipython3",
      "version": "3.9.6"
    }
  },
  "nbformat": 4,
  "nbformat_minor": 0
}
