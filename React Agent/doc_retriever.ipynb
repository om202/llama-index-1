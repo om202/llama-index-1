{
 "cells": [
  {
   "cell_type": "markdown",
   "id": "652a493b",
   "metadata": {},
   "source": [
    "# ReACT Agent using Llama Index"
   ]
  },
  {
   "cell_type": "markdown",
   "id": "3c46863a",
   "metadata": {},
   "source": [
    "Uses Simple Calculator tools and RAG QueryEngine Tools"
   ]
  },
  {
   "cell_type": "code",
   "execution_count": 2,
   "id": "7fe3b8b4-f209-42ec-bb8a-c4dcc07395fd",
   "metadata": {},
   "outputs": [
    {
     "name": "stdout",
     "output_type": "stream",
     "text": [
      "Requirement already satisfied: llama-index in /Users/omprakash/lama-index/.venv/lib/python3.9/site-packages (0.10.31)\n",
      "Requirement already satisfied: llama-index-llms-openai<0.2.0,>=0.1.13 in /Users/omprakash/lama-index/.venv/lib/python3.9/site-packages (from llama-index) (0.1.16)\n",
      "Requirement already satisfied: llama-index-legacy<0.10.0,>=0.9.48 in /Users/omprakash/lama-index/.venv/lib/python3.9/site-packages (from llama-index) (0.9.48)\n",
      "Requirement already satisfied: llama-index-indices-managed-llama-cloud<0.2.0,>=0.1.2 in /Users/omprakash/lama-index/.venv/lib/python3.9/site-packages (from llama-index) (0.1.5)\n",
      "Requirement already satisfied: llama-index-multi-modal-llms-openai<0.2.0,>=0.1.3 in /Users/omprakash/lama-index/.venv/lib/python3.9/site-packages (from llama-index) (0.1.5)\n",
      "Requirement already satisfied: llama-index-cli<0.2.0,>=0.1.2 in /Users/omprakash/lama-index/.venv/lib/python3.9/site-packages (from llama-index) (0.1.12)\n",
      "Requirement already satisfied: llama-index-readers-llama-parse<0.2.0,>=0.1.2 in /Users/omprakash/lama-index/.venv/lib/python3.9/site-packages (from llama-index) (0.1.4)\n",
      "Requirement already satisfied: llama-index-core<0.11.0,>=0.10.31 in /Users/omprakash/lama-index/.venv/lib/python3.9/site-packages (from llama-index) (0.10.31)\n",
      "Requirement already satisfied: llama-index-readers-file<0.2.0,>=0.1.4 in /Users/omprakash/lama-index/.venv/lib/python3.9/site-packages (from llama-index) (0.1.19)\n",
      "Requirement already satisfied: llama-index-embeddings-openai<0.2.0,>=0.1.5 in /Users/omprakash/lama-index/.venv/lib/python3.9/site-packages (from llama-index) (0.1.8)\n",
      "Requirement already satisfied: llama-index-agent-openai<0.3.0,>=0.1.4 in /Users/omprakash/lama-index/.venv/lib/python3.9/site-packages (from llama-index) (0.2.3)\n",
      "Requirement already satisfied: llama-index-program-openai<0.2.0,>=0.1.3 in /Users/omprakash/lama-index/.venv/lib/python3.9/site-packages (from llama-index) (0.1.6)\n",
      "Requirement already satisfied: llama-index-question-gen-openai<0.2.0,>=0.1.2 in /Users/omprakash/lama-index/.venv/lib/python3.9/site-packages (from llama-index) (0.1.3)\n",
      "Requirement already satisfied: openai>=1.14.0 in /Users/omprakash/lama-index/.venv/lib/python3.9/site-packages (from llama-index-agent-openai<0.3.0,>=0.1.4->llama-index) (1.23.6)\n",
      "Requirement already satisfied: dataclasses-json in /Users/omprakash/lama-index/.venv/lib/python3.9/site-packages (from llama-index-core<0.11.0,>=0.10.31->llama-index) (0.6.4)\n",
      "Requirement already satisfied: tiktoken>=0.3.3 in /Users/omprakash/lama-index/.venv/lib/python3.9/site-packages (from llama-index-core<0.11.0,>=0.10.31->llama-index) (0.6.0)\n",
      "Requirement already satisfied: nest-asyncio<2.0.0,>=1.5.8 in /Users/omprakash/lama-index/.venv/lib/python3.9/site-packages (from llama-index-core<0.11.0,>=0.10.31->llama-index) (1.6.0)\n",
      "Requirement already satisfied: dirtyjson<2.0.0,>=1.0.8 in /Users/omprakash/lama-index/.venv/lib/python3.9/site-packages (from llama-index-core<0.11.0,>=0.10.31->llama-index) (1.0.8)\n",
      "Requirement already satisfied: tqdm<5.0.0,>=4.66.1 in /Users/omprakash/lama-index/.venv/lib/python3.9/site-packages (from llama-index-core<0.11.0,>=0.10.31->llama-index) (4.66.2)\n",
      "Requirement already satisfied: llamaindex-py-client<0.2.0,>=0.1.18 in /Users/omprakash/lama-index/.venv/lib/python3.9/site-packages (from llama-index-core<0.11.0,>=0.10.31->llama-index) (0.1.18)\n",
      "Requirement already satisfied: pillow>=9.0.0 in /Users/omprakash/lama-index/.venv/lib/python3.9/site-packages (from llama-index-core<0.11.0,>=0.10.31->llama-index) (10.3.0)\n",
      "Requirement already satisfied: fsspec>=2023.5.0 in /Users/omprakash/lama-index/.venv/lib/python3.9/site-packages (from llama-index-core<0.11.0,>=0.10.31->llama-index) (2024.3.1)\n",
      "Requirement already satisfied: nltk<4.0.0,>=3.8.1 in /Users/omprakash/lama-index/.venv/lib/python3.9/site-packages (from llama-index-core<0.11.0,>=0.10.31->llama-index) (3.8.1)\n",
      "Requirement already satisfied: httpx in /Users/omprakash/lama-index/.venv/lib/python3.9/site-packages (from llama-index-core<0.11.0,>=0.10.31->llama-index) (0.25.2)\n",
      "Requirement already satisfied: SQLAlchemy[asyncio]>=1.4.49 in /Users/omprakash/lama-index/.venv/lib/python3.9/site-packages (from llama-index-core<0.11.0,>=0.10.31->llama-index) (2.0.29)\n",
      "Requirement already satisfied: typing-inspect>=0.8.0 in /Users/omprakash/lama-index/.venv/lib/python3.9/site-packages (from llama-index-core<0.11.0,>=0.10.31->llama-index) (0.9.0)\n",
      "Requirement already satisfied: numpy in /Users/omprakash/lama-index/.venv/lib/python3.9/site-packages (from llama-index-core<0.11.0,>=0.10.31->llama-index) (1.26.4)\n",
      "Requirement already satisfied: deprecated>=1.2.9.3 in /Users/omprakash/lama-index/.venv/lib/python3.9/site-packages (from llama-index-core<0.11.0,>=0.10.31->llama-index) (1.2.14)\n",
      "Requirement already satisfied: pandas in /Users/omprakash/lama-index/.venv/lib/python3.9/site-packages (from llama-index-core<0.11.0,>=0.10.31->llama-index) (2.2.2)\n",
      "Requirement already satisfied: PyYAML>=6.0.1 in /Users/omprakash/lama-index/.venv/lib/python3.9/site-packages (from llama-index-core<0.11.0,>=0.10.31->llama-index) (6.0.1)\n",
      "Requirement already satisfied: aiohttp<4.0.0,>=3.8.6 in /Users/omprakash/lama-index/.venv/lib/python3.9/site-packages (from llama-index-core<0.11.0,>=0.10.31->llama-index) (3.9.5)\n",
      "Requirement already satisfied: requests>=2.31.0 in /Users/omprakash/lama-index/.venv/lib/python3.9/site-packages (from llama-index-core<0.11.0,>=0.10.31->llama-index) (2.31.0)\n",
      "Requirement already satisfied: tenacity<9.0.0,>=8.2.0 in /Users/omprakash/lama-index/.venv/lib/python3.9/site-packages (from llama-index-core<0.11.0,>=0.10.31->llama-index) (8.2.3)\n",
      "Requirement already satisfied: networkx>=3.0 in /Users/omprakash/lama-index/.venv/lib/python3.9/site-packages (from llama-index-core<0.11.0,>=0.10.31->llama-index) (3.2.1)\n",
      "Requirement already satisfied: typing-extensions>=4.5.0 in /Users/omprakash/lama-index/.venv/lib/python3.9/site-packages (from llama-index-core<0.11.0,>=0.10.31->llama-index) (4.11.0)\n",
      "Requirement already satisfied: wrapt in /Users/omprakash/lama-index/.venv/lib/python3.9/site-packages (from llama-index-core<0.11.0,>=0.10.31->llama-index) (1.16.0)\n",
      "Requirement already satisfied: attrs>=17.3.0 in /Users/omprakash/lama-index/.venv/lib/python3.9/site-packages (from aiohttp<4.0.0,>=3.8.6->llama-index-core<0.11.0,>=0.10.31->llama-index) (23.2.0)\n",
      "Requirement already satisfied: async-timeout<5.0,>=4.0 in /Users/omprakash/lama-index/.venv/lib/python3.9/site-packages (from aiohttp<4.0.0,>=3.8.6->llama-index-core<0.11.0,>=0.10.31->llama-index) (4.0.3)\n",
      "Requirement already satisfied: frozenlist>=1.1.1 in /Users/omprakash/lama-index/.venv/lib/python3.9/site-packages (from aiohttp<4.0.0,>=3.8.6->llama-index-core<0.11.0,>=0.10.31->llama-index) (1.4.1)\n",
      "Requirement already satisfied: aiosignal>=1.1.2 in /Users/omprakash/lama-index/.venv/lib/python3.9/site-packages (from aiohttp<4.0.0,>=3.8.6->llama-index-core<0.11.0,>=0.10.31->llama-index) (1.3.1)\n",
      "Requirement already satisfied: yarl<2.0,>=1.0 in /Users/omprakash/lama-index/.venv/lib/python3.9/site-packages (from aiohttp<4.0.0,>=3.8.6->llama-index-core<0.11.0,>=0.10.31->llama-index) (1.9.4)\n",
      "Requirement already satisfied: multidict<7.0,>=4.5 in /Users/omprakash/lama-index/.venv/lib/python3.9/site-packages (from aiohttp<4.0.0,>=3.8.6->llama-index-core<0.11.0,>=0.10.31->llama-index) (6.0.5)\n",
      "Requirement already satisfied: beautifulsoup4<5.0.0,>=4.12.3 in /Users/omprakash/lama-index/.venv/lib/python3.9/site-packages (from llama-index-readers-file<0.2.0,>=0.1.4->llama-index) (4.12.3)\n",
      "Requirement already satisfied: pypdf<5.0.0,>=4.0.1 in /Users/omprakash/lama-index/.venv/lib/python3.9/site-packages (from llama-index-readers-file<0.2.0,>=0.1.4->llama-index) (4.2.0)\n",
      "Requirement already satisfied: striprtf<0.0.27,>=0.0.26 in /Users/omprakash/lama-index/.venv/lib/python3.9/site-packages (from llama-index-readers-file<0.2.0,>=0.1.4->llama-index) (0.0.26)\n",
      "Requirement already satisfied: soupsieve>1.2 in /Users/omprakash/lama-index/.venv/lib/python3.9/site-packages (from beautifulsoup4<5.0.0,>=4.12.3->llama-index-readers-file<0.2.0,>=0.1.4->llama-index) (2.5)\n",
      "Requirement already satisfied: llama-parse<0.5.0,>=0.4.0 in /Users/omprakash/lama-index/.venv/lib/python3.9/site-packages (from llama-index-readers-llama-parse<0.2.0,>=0.1.2->llama-index) (0.4.2)\n",
      "Requirement already satisfied: pydantic>=1.10 in /Users/omprakash/lama-index/.venv/lib/python3.9/site-packages (from llamaindex-py-client<0.2.0,>=0.1.18->llama-index-core<0.11.0,>=0.10.31->llama-index) (2.7.1)\n",
      "Requirement already satisfied: idna in /Users/omprakash/lama-index/.venv/lib/python3.9/site-packages (from httpx->llama-index-core<0.11.0,>=0.10.31->llama-index) (3.7)\n",
      "Requirement already satisfied: anyio in /Users/omprakash/lama-index/.venv/lib/python3.9/site-packages (from httpx->llama-index-core<0.11.0,>=0.10.31->llama-index) (4.3.0)\n",
      "Requirement already satisfied: certifi in /Users/omprakash/lama-index/.venv/lib/python3.9/site-packages (from httpx->llama-index-core<0.11.0,>=0.10.31->llama-index) (2024.2.2)\n",
      "Requirement already satisfied: httpcore==1.* in /Users/omprakash/lama-index/.venv/lib/python3.9/site-packages (from httpx->llama-index-core<0.11.0,>=0.10.31->llama-index) (1.0.5)\n",
      "Requirement already satisfied: sniffio in /Users/omprakash/lama-index/.venv/lib/python3.9/site-packages (from httpx->llama-index-core<0.11.0,>=0.10.31->llama-index) (1.3.1)\n",
      "Requirement already satisfied: h11<0.15,>=0.13 in /Users/omprakash/lama-index/.venv/lib/python3.9/site-packages (from httpcore==1.*->httpx->llama-index-core<0.11.0,>=0.10.31->llama-index) (0.14.0)\n",
      "Requirement already satisfied: joblib in /Users/omprakash/lama-index/.venv/lib/python3.9/site-packages (from nltk<4.0.0,>=3.8.1->llama-index-core<0.11.0,>=0.10.31->llama-index) (1.4.0)\n",
      "Requirement already satisfied: regex>=2021.8.3 in /Users/omprakash/lama-index/.venv/lib/python3.9/site-packages (from nltk<4.0.0,>=3.8.1->llama-index-core<0.11.0,>=0.10.31->llama-index) (2024.4.16)\n",
      "Requirement already satisfied: click in /Users/omprakash/lama-index/.venv/lib/python3.9/site-packages (from nltk<4.0.0,>=3.8.1->llama-index-core<0.11.0,>=0.10.31->llama-index) (8.1.7)\n",
      "Requirement already satisfied: distro<2,>=1.7.0 in /Users/omprakash/lama-index/.venv/lib/python3.9/site-packages (from openai>=1.14.0->llama-index-agent-openai<0.3.0,>=0.1.4->llama-index) (1.9.0)\n",
      "Requirement already satisfied: exceptiongroup>=1.0.2 in /Users/omprakash/lama-index/.venv/lib/python3.9/site-packages (from anyio->httpx->llama-index-core<0.11.0,>=0.10.31->llama-index) (1.2.1)\n",
      "Requirement already satisfied: annotated-types>=0.4.0 in /Users/omprakash/lama-index/.venv/lib/python3.9/site-packages (from pydantic>=1.10->llamaindex-py-client<0.2.0,>=0.1.18->llama-index-core<0.11.0,>=0.10.31->llama-index) (0.6.0)\n",
      "Requirement already satisfied: pydantic-core==2.18.2 in /Users/omprakash/lama-index/.venv/lib/python3.9/site-packages (from pydantic>=1.10->llamaindex-py-client<0.2.0,>=0.1.18->llama-index-core<0.11.0,>=0.10.31->llama-index) (2.18.2)\n",
      "Requirement already satisfied: charset-normalizer<4,>=2 in /Users/omprakash/lama-index/.venv/lib/python3.9/site-packages (from requests>=2.31.0->llama-index-core<0.11.0,>=0.10.31->llama-index) (3.3.2)\n",
      "Requirement already satisfied: urllib3<3,>=1.21.1 in /Users/omprakash/lama-index/.venv/lib/python3.9/site-packages (from requests>=2.31.0->llama-index-core<0.11.0,>=0.10.31->llama-index) (2.2.1)\n",
      "Requirement already satisfied: greenlet!=0.4.17 in /Users/omprakash/lama-index/.venv/lib/python3.9/site-packages (from SQLAlchemy[asyncio]>=1.4.49->llama-index-core<0.11.0,>=0.10.31->llama-index) (3.0.3)\n",
      "Requirement already satisfied: mypy-extensions>=0.3.0 in /Users/omprakash/lama-index/.venv/lib/python3.9/site-packages (from typing-inspect>=0.8.0->llama-index-core<0.11.0,>=0.10.31->llama-index) (1.0.0)\n",
      "Requirement already satisfied: marshmallow<4.0.0,>=3.18.0 in /Users/omprakash/lama-index/.venv/lib/python3.9/site-packages (from dataclasses-json->llama-index-core<0.11.0,>=0.10.31->llama-index) (3.21.1)\n",
      "Requirement already satisfied: packaging>=17.0 in /Users/omprakash/lama-index/.venv/lib/python3.9/site-packages (from marshmallow<4.0.0,>=3.18.0->dataclasses-json->llama-index-core<0.11.0,>=0.10.31->llama-index) (24.0)\n",
      "Requirement already satisfied: tzdata>=2022.7 in /Users/omprakash/lama-index/.venv/lib/python3.9/site-packages (from pandas->llama-index-core<0.11.0,>=0.10.31->llama-index) (2024.1)\n",
      "Requirement already satisfied: pytz>=2020.1 in /Users/omprakash/lama-index/.venv/lib/python3.9/site-packages (from pandas->llama-index-core<0.11.0,>=0.10.31->llama-index) (2024.1)\n",
      "Requirement already satisfied: python-dateutil>=2.8.2 in /Users/omprakash/lama-index/.venv/lib/python3.9/site-packages (from pandas->llama-index-core<0.11.0,>=0.10.31->llama-index) (2.9.0.post0)\n",
      "Requirement already satisfied: six>=1.5 in /Users/omprakash/lama-index/.venv/lib/python3.9/site-packages (from python-dateutil>=2.8.2->pandas->llama-index-core<0.11.0,>=0.10.31->llama-index) (1.16.0)\n",
      "\u001b[33mWARNING: You are using pip version 21.2.4; however, version 24.0 is available.\n",
      "You should consider upgrading via the '/Users/omprakash/lama-index/.venv/bin/python -m pip install --upgrade pip' command.\u001b[0m\n",
      "Note: you may need to restart the kernel to use updated packages.\n",
      "Requirement already satisfied: llama-index-llms-anthropic in /Users/omprakash/lama-index/.venv/lib/python3.9/site-packages (0.1.10)\n",
      "Requirement already satisfied: llama-index-core<0.11.0,>=0.10.1 in /Users/omprakash/lama-index/.venv/lib/python3.9/site-packages (from llama-index-llms-anthropic) (0.10.31)\n",
      "Requirement already satisfied: anthropic<0.24.0,>=0.23.1 in /Users/omprakash/lama-index/.venv/lib/python3.9/site-packages (from llama-index-llms-anthropic) (0.23.1)\n",
      "Requirement already satisfied: anyio<5,>=3.5.0 in /Users/omprakash/lama-index/.venv/lib/python3.9/site-packages (from anthropic<0.24.0,>=0.23.1->llama-index-llms-anthropic) (4.3.0)\n",
      "Requirement already satisfied: distro<2,>=1.7.0 in /Users/omprakash/lama-index/.venv/lib/python3.9/site-packages (from anthropic<0.24.0,>=0.23.1->llama-index-llms-anthropic) (1.9.0)\n",
      "Requirement already satisfied: sniffio in /Users/omprakash/lama-index/.venv/lib/python3.9/site-packages (from anthropic<0.24.0,>=0.23.1->llama-index-llms-anthropic) (1.3.1)\n",
      "Requirement already satisfied: typing-extensions<5,>=4.7 in /Users/omprakash/lama-index/.venv/lib/python3.9/site-packages (from anthropic<0.24.0,>=0.23.1->llama-index-llms-anthropic) (4.11.0)\n",
      "Requirement already satisfied: httpx<1,>=0.23.0 in /Users/omprakash/lama-index/.venv/lib/python3.9/site-packages (from anthropic<0.24.0,>=0.23.1->llama-index-llms-anthropic) (0.25.2)\n",
      "Requirement already satisfied: tokenizers>=0.13.0 in /Users/omprakash/lama-index/.venv/lib/python3.9/site-packages (from anthropic<0.24.0,>=0.23.1->llama-index-llms-anthropic) (0.19.1)\n",
      "Requirement already satisfied: pydantic<3,>=1.9.0 in /Users/omprakash/lama-index/.venv/lib/python3.9/site-packages (from anthropic<0.24.0,>=0.23.1->llama-index-llms-anthropic) (2.7.1)\n",
      "Requirement already satisfied: exceptiongroup>=1.0.2 in /Users/omprakash/lama-index/.venv/lib/python3.9/site-packages (from anyio<5,>=3.5.0->anthropic<0.24.0,>=0.23.1->llama-index-llms-anthropic) (1.2.1)\n",
      "Requirement already satisfied: idna>=2.8 in /Users/omprakash/lama-index/.venv/lib/python3.9/site-packages (from anyio<5,>=3.5.0->anthropic<0.24.0,>=0.23.1->llama-index-llms-anthropic) (3.7)\n",
      "Requirement already satisfied: certifi in /Users/omprakash/lama-index/.venv/lib/python3.9/site-packages (from httpx<1,>=0.23.0->anthropic<0.24.0,>=0.23.1->llama-index-llms-anthropic) (2024.2.2)\n",
      "Requirement already satisfied: httpcore==1.* in /Users/omprakash/lama-index/.venv/lib/python3.9/site-packages (from httpx<1,>=0.23.0->anthropic<0.24.0,>=0.23.1->llama-index-llms-anthropic) (1.0.5)\n",
      "Requirement already satisfied: h11<0.15,>=0.13 in /Users/omprakash/lama-index/.venv/lib/python3.9/site-packages (from httpcore==1.*->httpx<1,>=0.23.0->anthropic<0.24.0,>=0.23.1->llama-index-llms-anthropic) (0.14.0)\n",
      "Requirement already satisfied: aiohttp<4.0.0,>=3.8.6 in /Users/omprakash/lama-index/.venv/lib/python3.9/site-packages (from llama-index-core<0.11.0,>=0.10.1->llama-index-llms-anthropic) (3.9.5)\n",
      "Requirement already satisfied: PyYAML>=6.0.1 in /Users/omprakash/lama-index/.venv/lib/python3.9/site-packages (from llama-index-core<0.11.0,>=0.10.1->llama-index-llms-anthropic) (6.0.1)\n",
      "Requirement already satisfied: deprecated>=1.2.9.3 in /Users/omprakash/lama-index/.venv/lib/python3.9/site-packages (from llama-index-core<0.11.0,>=0.10.1->llama-index-llms-anthropic) (1.2.14)\n",
      "Requirement already satisfied: SQLAlchemy[asyncio]>=1.4.49 in /Users/omprakash/lama-index/.venv/lib/python3.9/site-packages (from llama-index-core<0.11.0,>=0.10.1->llama-index-llms-anthropic) (2.0.29)\n",
      "Requirement already satisfied: dirtyjson<2.0.0,>=1.0.8 in /Users/omprakash/lama-index/.venv/lib/python3.9/site-packages (from llama-index-core<0.11.0,>=0.10.1->llama-index-llms-anthropic) (1.0.8)\n",
      "Requirement already satisfied: nltk<4.0.0,>=3.8.1 in /Users/omprakash/lama-index/.venv/lib/python3.9/site-packages (from llama-index-core<0.11.0,>=0.10.1->llama-index-llms-anthropic) (3.8.1)\n",
      "Requirement already satisfied: nest-asyncio<2.0.0,>=1.5.8 in /Users/omprakash/lama-index/.venv/lib/python3.9/site-packages (from llama-index-core<0.11.0,>=0.10.1->llama-index-llms-anthropic) (1.6.0)\n",
      "Requirement already satisfied: requests>=2.31.0 in /Users/omprakash/lama-index/.venv/lib/python3.9/site-packages (from llama-index-core<0.11.0,>=0.10.1->llama-index-llms-anthropic) (2.31.0)\n",
      "Requirement already satisfied: tiktoken>=0.3.3 in /Users/omprakash/lama-index/.venv/lib/python3.9/site-packages (from llama-index-core<0.11.0,>=0.10.1->llama-index-llms-anthropic) (0.6.0)\n",
      "Requirement already satisfied: fsspec>=2023.5.0 in /Users/omprakash/lama-index/.venv/lib/python3.9/site-packages (from llama-index-core<0.11.0,>=0.10.1->llama-index-llms-anthropic) (2024.3.1)\n",
      "Requirement already satisfied: tqdm<5.0.0,>=4.66.1 in /Users/omprakash/lama-index/.venv/lib/python3.9/site-packages (from llama-index-core<0.11.0,>=0.10.1->llama-index-llms-anthropic) (4.66.2)\n",
      "Requirement already satisfied: networkx>=3.0 in /Users/omprakash/lama-index/.venv/lib/python3.9/site-packages (from llama-index-core<0.11.0,>=0.10.1->llama-index-llms-anthropic) (3.2.1)\n",
      "Requirement already satisfied: llamaindex-py-client<0.2.0,>=0.1.18 in /Users/omprakash/lama-index/.venv/lib/python3.9/site-packages (from llama-index-core<0.11.0,>=0.10.1->llama-index-llms-anthropic) (0.1.18)\n",
      "Requirement already satisfied: openai>=1.1.0 in /Users/omprakash/lama-index/.venv/lib/python3.9/site-packages (from llama-index-core<0.11.0,>=0.10.1->llama-index-llms-anthropic) (1.23.6)\n",
      "Requirement already satisfied: wrapt in /Users/omprakash/lama-index/.venv/lib/python3.9/site-packages (from llama-index-core<0.11.0,>=0.10.1->llama-index-llms-anthropic) (1.16.0)\n",
      "Requirement already satisfied: pandas in /Users/omprakash/lama-index/.venv/lib/python3.9/site-packages (from llama-index-core<0.11.0,>=0.10.1->llama-index-llms-anthropic) (2.2.2)\n",
      "Requirement already satisfied: typing-inspect>=0.8.0 in /Users/omprakash/lama-index/.venv/lib/python3.9/site-packages (from llama-index-core<0.11.0,>=0.10.1->llama-index-llms-anthropic) (0.9.0)\n",
      "Requirement already satisfied: dataclasses-json in /Users/omprakash/lama-index/.venv/lib/python3.9/site-packages (from llama-index-core<0.11.0,>=0.10.1->llama-index-llms-anthropic) (0.6.4)\n",
      "Requirement already satisfied: tenacity<9.0.0,>=8.2.0 in /Users/omprakash/lama-index/.venv/lib/python3.9/site-packages (from llama-index-core<0.11.0,>=0.10.1->llama-index-llms-anthropic) (8.2.3)\n",
      "Requirement already satisfied: pillow>=9.0.0 in /Users/omprakash/lama-index/.venv/lib/python3.9/site-packages (from llama-index-core<0.11.0,>=0.10.1->llama-index-llms-anthropic) (10.3.0)\n",
      "Requirement already satisfied: numpy in /Users/omprakash/lama-index/.venv/lib/python3.9/site-packages (from llama-index-core<0.11.0,>=0.10.1->llama-index-llms-anthropic) (1.26.4)\n",
      "Requirement already satisfied: aiosignal>=1.1.2 in /Users/omprakash/lama-index/.venv/lib/python3.9/site-packages (from aiohttp<4.0.0,>=3.8.6->llama-index-core<0.11.0,>=0.10.1->llama-index-llms-anthropic) (1.3.1)\n",
      "Requirement already satisfied: yarl<2.0,>=1.0 in /Users/omprakash/lama-index/.venv/lib/python3.9/site-packages (from aiohttp<4.0.0,>=3.8.6->llama-index-core<0.11.0,>=0.10.1->llama-index-llms-anthropic) (1.9.4)\n",
      "Requirement already satisfied: multidict<7.0,>=4.5 in /Users/omprakash/lama-index/.venv/lib/python3.9/site-packages (from aiohttp<4.0.0,>=3.8.6->llama-index-core<0.11.0,>=0.10.1->llama-index-llms-anthropic) (6.0.5)\n",
      "Requirement already satisfied: frozenlist>=1.1.1 in /Users/omprakash/lama-index/.venv/lib/python3.9/site-packages (from aiohttp<4.0.0,>=3.8.6->llama-index-core<0.11.0,>=0.10.1->llama-index-llms-anthropic) (1.4.1)\n",
      "Requirement already satisfied: async-timeout<5.0,>=4.0 in /Users/omprakash/lama-index/.venv/lib/python3.9/site-packages (from aiohttp<4.0.0,>=3.8.6->llama-index-core<0.11.0,>=0.10.1->llama-index-llms-anthropic) (4.0.3)\n",
      "Requirement already satisfied: attrs>=17.3.0 in /Users/omprakash/lama-index/.venv/lib/python3.9/site-packages (from aiohttp<4.0.0,>=3.8.6->llama-index-core<0.11.0,>=0.10.1->llama-index-llms-anthropic) (23.2.0)\n",
      "Requirement already satisfied: regex>=2021.8.3 in /Users/omprakash/lama-index/.venv/lib/python3.9/site-packages (from nltk<4.0.0,>=3.8.1->llama-index-core<0.11.0,>=0.10.1->llama-index-llms-anthropic) (2024.4.16)\n",
      "Requirement already satisfied: click in /Users/omprakash/lama-index/.venv/lib/python3.9/site-packages (from nltk<4.0.0,>=3.8.1->llama-index-core<0.11.0,>=0.10.1->llama-index-llms-anthropic) (8.1.7)\n",
      "Requirement already satisfied: joblib in /Users/omprakash/lama-index/.venv/lib/python3.9/site-packages (from nltk<4.0.0,>=3.8.1->llama-index-core<0.11.0,>=0.10.1->llama-index-llms-anthropic) (1.4.0)\n",
      "Requirement already satisfied: pydantic-core==2.18.2 in /Users/omprakash/lama-index/.venv/lib/python3.9/site-packages (from pydantic<3,>=1.9.0->anthropic<0.24.0,>=0.23.1->llama-index-llms-anthropic) (2.18.2)\n",
      "Requirement already satisfied: annotated-types>=0.4.0 in /Users/omprakash/lama-index/.venv/lib/python3.9/site-packages (from pydantic<3,>=1.9.0->anthropic<0.24.0,>=0.23.1->llama-index-llms-anthropic) (0.6.0)\n",
      "Requirement already satisfied: charset-normalizer<4,>=2 in /Users/omprakash/lama-index/.venv/lib/python3.9/site-packages (from requests>=2.31.0->llama-index-core<0.11.0,>=0.10.1->llama-index-llms-anthropic) (3.3.2)\n",
      "Requirement already satisfied: urllib3<3,>=1.21.1 in /Users/omprakash/lama-index/.venv/lib/python3.9/site-packages (from requests>=2.31.0->llama-index-core<0.11.0,>=0.10.1->llama-index-llms-anthropic) (2.2.1)\n",
      "Requirement already satisfied: greenlet!=0.4.17 in /Users/omprakash/lama-index/.venv/lib/python3.9/site-packages (from SQLAlchemy[asyncio]>=1.4.49->llama-index-core<0.11.0,>=0.10.1->llama-index-llms-anthropic) (3.0.3)\n",
      "Requirement already satisfied: huggingface-hub<1.0,>=0.16.4 in /Users/omprakash/lama-index/.venv/lib/python3.9/site-packages (from tokenizers>=0.13.0->anthropic<0.24.0,>=0.23.1->llama-index-llms-anthropic) (0.22.2)\n",
      "Requirement already satisfied: packaging>=20.9 in /Users/omprakash/lama-index/.venv/lib/python3.9/site-packages (from huggingface-hub<1.0,>=0.16.4->tokenizers>=0.13.0->anthropic<0.24.0,>=0.23.1->llama-index-llms-anthropic) (24.0)\n",
      "Requirement already satisfied: filelock in /Users/omprakash/lama-index/.venv/lib/python3.9/site-packages (from huggingface-hub<1.0,>=0.16.4->tokenizers>=0.13.0->anthropic<0.24.0,>=0.23.1->llama-index-llms-anthropic) (3.13.4)\n",
      "Requirement already satisfied: mypy-extensions>=0.3.0 in /Users/omprakash/lama-index/.venv/lib/python3.9/site-packages (from typing-inspect>=0.8.0->llama-index-core<0.11.0,>=0.10.1->llama-index-llms-anthropic) (1.0.0)\n",
      "Requirement already satisfied: marshmallow<4.0.0,>=3.18.0 in /Users/omprakash/lama-index/.venv/lib/python3.9/site-packages (from dataclasses-json->llama-index-core<0.11.0,>=0.10.1->llama-index-llms-anthropic) (3.21.1)\n",
      "Requirement already satisfied: python-dateutil>=2.8.2 in /Users/omprakash/lama-index/.venv/lib/python3.9/site-packages (from pandas->llama-index-core<0.11.0,>=0.10.1->llama-index-llms-anthropic) (2.9.0.post0)\n",
      "Requirement already satisfied: pytz>=2020.1 in /Users/omprakash/lama-index/.venv/lib/python3.9/site-packages (from pandas->llama-index-core<0.11.0,>=0.10.1->llama-index-llms-anthropic) (2024.1)\n",
      "Requirement already satisfied: tzdata>=2022.7 in /Users/omprakash/lama-index/.venv/lib/python3.9/site-packages (from pandas->llama-index-core<0.11.0,>=0.10.1->llama-index-llms-anthropic) (2024.1)\n",
      "Requirement already satisfied: six>=1.5 in /Users/omprakash/lama-index/.venv/lib/python3.9/site-packages (from python-dateutil>=2.8.2->pandas->llama-index-core<0.11.0,>=0.10.1->llama-index-llms-anthropic) (1.16.0)\n",
      "\u001b[33mWARNING: You are using pip version 21.2.4; however, version 24.0 is available.\n",
      "You should consider upgrading via the '/Users/omprakash/lama-index/.venv/bin/python -m pip install --upgrade pip' command.\u001b[0m\n",
      "Note: you may need to restart the kernel to use updated packages.\n",
      "Requirement already satisfied: llama-index-llms-mistralai in /Users/omprakash/lama-index/.venv/lib/python3.9/site-packages (0.1.11)\n",
      "Requirement already satisfied: llama-index-core<0.11.0,>=0.10.24 in /Users/omprakash/lama-index/.venv/lib/python3.9/site-packages (from llama-index-llms-mistralai) (0.10.31)\n",
      "Requirement already satisfied: mistralai>=0.1.8 in /Users/omprakash/lama-index/.venv/lib/python3.9/site-packages (from llama-index-llms-mistralai) (0.1.8)\n",
      "Requirement already satisfied: SQLAlchemy[asyncio]>=1.4.49 in /Users/omprakash/lama-index/.venv/lib/python3.9/site-packages (from llama-index-core<0.11.0,>=0.10.24->llama-index-llms-mistralai) (2.0.29)\n",
      "Requirement already satisfied: pandas in /Users/omprakash/lama-index/.venv/lib/python3.9/site-packages (from llama-index-core<0.11.0,>=0.10.24->llama-index-llms-mistralai) (2.2.2)\n",
      "Requirement already satisfied: numpy in /Users/omprakash/lama-index/.venv/lib/python3.9/site-packages (from llama-index-core<0.11.0,>=0.10.24->llama-index-llms-mistralai) (1.26.4)\n",
      "Requirement already satisfied: tiktoken>=0.3.3 in /Users/omprakash/lama-index/.venv/lib/python3.9/site-packages (from llama-index-core<0.11.0,>=0.10.24->llama-index-llms-mistralai) (0.6.0)\n",
      "Requirement already satisfied: llamaindex-py-client<0.2.0,>=0.1.18 in /Users/omprakash/lama-index/.venv/lib/python3.9/site-packages (from llama-index-core<0.11.0,>=0.10.24->llama-index-llms-mistralai) (0.1.18)\n",
      "Requirement already satisfied: requests>=2.31.0 in /Users/omprakash/lama-index/.venv/lib/python3.9/site-packages (from llama-index-core<0.11.0,>=0.10.24->llama-index-llms-mistralai) (2.31.0)\n",
      "Requirement already satisfied: typing-inspect>=0.8.0 in /Users/omprakash/lama-index/.venv/lib/python3.9/site-packages (from llama-index-core<0.11.0,>=0.10.24->llama-index-llms-mistralai) (0.9.0)\n",
      "Requirement already satisfied: fsspec>=2023.5.0 in /Users/omprakash/lama-index/.venv/lib/python3.9/site-packages (from llama-index-core<0.11.0,>=0.10.24->llama-index-llms-mistralai) (2024.3.1)\n",
      "Requirement already satisfied: networkx>=3.0 in /Users/omprakash/lama-index/.venv/lib/python3.9/site-packages (from llama-index-core<0.11.0,>=0.10.24->llama-index-llms-mistralai) (3.2.1)\n",
      "Requirement already satisfied: pillow>=9.0.0 in /Users/omprakash/lama-index/.venv/lib/python3.9/site-packages (from llama-index-core<0.11.0,>=0.10.24->llama-index-llms-mistralai) (10.3.0)\n",
      "Requirement already satisfied: dirtyjson<2.0.0,>=1.0.8 in /Users/omprakash/lama-index/.venv/lib/python3.9/site-packages (from llama-index-core<0.11.0,>=0.10.24->llama-index-llms-mistralai) (1.0.8)\n",
      "Requirement already satisfied: nest-asyncio<2.0.0,>=1.5.8 in /Users/omprakash/lama-index/.venv/lib/python3.9/site-packages (from llama-index-core<0.11.0,>=0.10.24->llama-index-llms-mistralai) (1.6.0)\n",
      "Requirement already satisfied: tqdm<5.0.0,>=4.66.1 in /Users/omprakash/lama-index/.venv/lib/python3.9/site-packages (from llama-index-core<0.11.0,>=0.10.24->llama-index-llms-mistralai) (4.66.2)\n",
      "Requirement already satisfied: dataclasses-json in /Users/omprakash/lama-index/.venv/lib/python3.9/site-packages (from llama-index-core<0.11.0,>=0.10.24->llama-index-llms-mistralai) (0.6.4)\n",
      "Requirement already satisfied: nltk<4.0.0,>=3.8.1 in /Users/omprakash/lama-index/.venv/lib/python3.9/site-packages (from llama-index-core<0.11.0,>=0.10.24->llama-index-llms-mistralai) (3.8.1)\n",
      "Requirement already satisfied: tenacity<9.0.0,>=8.2.0 in /Users/omprakash/lama-index/.venv/lib/python3.9/site-packages (from llama-index-core<0.11.0,>=0.10.24->llama-index-llms-mistralai) (8.2.3)\n",
      "Requirement already satisfied: deprecated>=1.2.9.3 in /Users/omprakash/lama-index/.venv/lib/python3.9/site-packages (from llama-index-core<0.11.0,>=0.10.24->llama-index-llms-mistralai) (1.2.14)\n",
      "Requirement already satisfied: typing-extensions>=4.5.0 in /Users/omprakash/lama-index/.venv/lib/python3.9/site-packages (from llama-index-core<0.11.0,>=0.10.24->llama-index-llms-mistralai) (4.11.0)\n",
      "Requirement already satisfied: httpx in /Users/omprakash/lama-index/.venv/lib/python3.9/site-packages (from llama-index-core<0.11.0,>=0.10.24->llama-index-llms-mistralai) (0.25.2)\n",
      "Requirement already satisfied: aiohttp<4.0.0,>=3.8.6 in /Users/omprakash/lama-index/.venv/lib/python3.9/site-packages (from llama-index-core<0.11.0,>=0.10.24->llama-index-llms-mistralai) (3.9.5)\n",
      "Requirement already satisfied: openai>=1.1.0 in /Users/omprakash/lama-index/.venv/lib/python3.9/site-packages (from llama-index-core<0.11.0,>=0.10.24->llama-index-llms-mistralai) (1.23.6)\n",
      "Requirement already satisfied: PyYAML>=6.0.1 in /Users/omprakash/lama-index/.venv/lib/python3.9/site-packages (from llama-index-core<0.11.0,>=0.10.24->llama-index-llms-mistralai) (6.0.1)\n",
      "Requirement already satisfied: wrapt in /Users/omprakash/lama-index/.venv/lib/python3.9/site-packages (from llama-index-core<0.11.0,>=0.10.24->llama-index-llms-mistralai) (1.16.0)\n",
      "Requirement already satisfied: aiosignal>=1.1.2 in /Users/omprakash/lama-index/.venv/lib/python3.9/site-packages (from aiohttp<4.0.0,>=3.8.6->llama-index-core<0.11.0,>=0.10.24->llama-index-llms-mistralai) (1.3.1)\n",
      "Requirement already satisfied: frozenlist>=1.1.1 in /Users/omprakash/lama-index/.venv/lib/python3.9/site-packages (from aiohttp<4.0.0,>=3.8.6->llama-index-core<0.11.0,>=0.10.24->llama-index-llms-mistralai) (1.4.1)\n",
      "Requirement already satisfied: attrs>=17.3.0 in /Users/omprakash/lama-index/.venv/lib/python3.9/site-packages (from aiohttp<4.0.0,>=3.8.6->llama-index-core<0.11.0,>=0.10.24->llama-index-llms-mistralai) (23.2.0)\n",
      "Requirement already satisfied: yarl<2.0,>=1.0 in /Users/omprakash/lama-index/.venv/lib/python3.9/site-packages (from aiohttp<4.0.0,>=3.8.6->llama-index-core<0.11.0,>=0.10.24->llama-index-llms-mistralai) (1.9.4)\n",
      "Requirement already satisfied: async-timeout<5.0,>=4.0 in /Users/omprakash/lama-index/.venv/lib/python3.9/site-packages (from aiohttp<4.0.0,>=3.8.6->llama-index-core<0.11.0,>=0.10.24->llama-index-llms-mistralai) (4.0.3)\n",
      "Requirement already satisfied: multidict<7.0,>=4.5 in /Users/omprakash/lama-index/.venv/lib/python3.9/site-packages (from aiohttp<4.0.0,>=3.8.6->llama-index-core<0.11.0,>=0.10.24->llama-index-llms-mistralai) (6.0.5)\n",
      "Requirement already satisfied: pydantic>=1.10 in /Users/omprakash/lama-index/.venv/lib/python3.9/site-packages (from llamaindex-py-client<0.2.0,>=0.1.18->llama-index-core<0.11.0,>=0.10.24->llama-index-llms-mistralai) (2.7.1)\n",
      "Requirement already satisfied: httpcore==1.* in /Users/omprakash/lama-index/.venv/lib/python3.9/site-packages (from httpx->llama-index-core<0.11.0,>=0.10.24->llama-index-llms-mistralai) (1.0.5)\n",
      "Requirement already satisfied: certifi in /Users/omprakash/lama-index/.venv/lib/python3.9/site-packages (from httpx->llama-index-core<0.11.0,>=0.10.24->llama-index-llms-mistralai) (2024.2.2)\n",
      "Requirement already satisfied: idna in /Users/omprakash/lama-index/.venv/lib/python3.9/site-packages (from httpx->llama-index-core<0.11.0,>=0.10.24->llama-index-llms-mistralai) (3.7)\n",
      "Requirement already satisfied: anyio in /Users/omprakash/lama-index/.venv/lib/python3.9/site-packages (from httpx->llama-index-core<0.11.0,>=0.10.24->llama-index-llms-mistralai) (4.3.0)\n",
      "Requirement already satisfied: sniffio in /Users/omprakash/lama-index/.venv/lib/python3.9/site-packages (from httpx->llama-index-core<0.11.0,>=0.10.24->llama-index-llms-mistralai) (1.3.1)\n",
      "Requirement already satisfied: h11<0.15,>=0.13 in /Users/omprakash/lama-index/.venv/lib/python3.9/site-packages (from httpcore==1.*->httpx->llama-index-core<0.11.0,>=0.10.24->llama-index-llms-mistralai) (0.14.0)\n",
      "Requirement already satisfied: orjson<4.0.0,>=3.9.10 in /Users/omprakash/lama-index/.venv/lib/python3.9/site-packages (from mistralai>=0.1.8->llama-index-llms-mistralai) (3.10.1)\n",
      "Requirement already satisfied: joblib in /Users/omprakash/lama-index/.venv/lib/python3.9/site-packages (from nltk<4.0.0,>=3.8.1->llama-index-core<0.11.0,>=0.10.24->llama-index-llms-mistralai) (1.4.0)\n",
      "Requirement already satisfied: click in /Users/omprakash/lama-index/.venv/lib/python3.9/site-packages (from nltk<4.0.0,>=3.8.1->llama-index-core<0.11.0,>=0.10.24->llama-index-llms-mistralai) (8.1.7)\n",
      "Requirement already satisfied: regex>=2021.8.3 in /Users/omprakash/lama-index/.venv/lib/python3.9/site-packages (from nltk<4.0.0,>=3.8.1->llama-index-core<0.11.0,>=0.10.24->llama-index-llms-mistralai) (2024.4.16)\n",
      "Requirement already satisfied: distro<2,>=1.7.0 in /Users/omprakash/lama-index/.venv/lib/python3.9/site-packages (from openai>=1.1.0->llama-index-core<0.11.0,>=0.10.24->llama-index-llms-mistralai) (1.9.0)\n",
      "Requirement already satisfied: exceptiongroup>=1.0.2 in /Users/omprakash/lama-index/.venv/lib/python3.9/site-packages (from anyio->httpx->llama-index-core<0.11.0,>=0.10.24->llama-index-llms-mistralai) (1.2.1)\n",
      "Requirement already satisfied: annotated-types>=0.4.0 in /Users/omprakash/lama-index/.venv/lib/python3.9/site-packages (from pydantic>=1.10->llamaindex-py-client<0.2.0,>=0.1.18->llama-index-core<0.11.0,>=0.10.24->llama-index-llms-mistralai) (0.6.0)\n",
      "Requirement already satisfied: pydantic-core==2.18.2 in /Users/omprakash/lama-index/.venv/lib/python3.9/site-packages (from pydantic>=1.10->llamaindex-py-client<0.2.0,>=0.1.18->llama-index-core<0.11.0,>=0.10.24->llama-index-llms-mistralai) (2.18.2)\n",
      "Requirement already satisfied: charset-normalizer<4,>=2 in /Users/omprakash/lama-index/.venv/lib/python3.9/site-packages (from requests>=2.31.0->llama-index-core<0.11.0,>=0.10.24->llama-index-llms-mistralai) (3.3.2)\n",
      "Requirement already satisfied: urllib3<3,>=1.21.1 in /Users/omprakash/lama-index/.venv/lib/python3.9/site-packages (from requests>=2.31.0->llama-index-core<0.11.0,>=0.10.24->llama-index-llms-mistralai) (2.2.1)\n",
      "Requirement already satisfied: greenlet!=0.4.17 in /Users/omprakash/lama-index/.venv/lib/python3.9/site-packages (from SQLAlchemy[asyncio]>=1.4.49->llama-index-core<0.11.0,>=0.10.24->llama-index-llms-mistralai) (3.0.3)\n",
      "Requirement already satisfied: mypy-extensions>=0.3.0 in /Users/omprakash/lama-index/.venv/lib/python3.9/site-packages (from typing-inspect>=0.8.0->llama-index-core<0.11.0,>=0.10.24->llama-index-llms-mistralai) (1.0.0)\n",
      "Requirement already satisfied: marshmallow<4.0.0,>=3.18.0 in /Users/omprakash/lama-index/.venv/lib/python3.9/site-packages (from dataclasses-json->llama-index-core<0.11.0,>=0.10.24->llama-index-llms-mistralai) (3.21.1)\n",
      "Requirement already satisfied: packaging>=17.0 in /Users/omprakash/lama-index/.venv/lib/python3.9/site-packages (from marshmallow<4.0.0,>=3.18.0->dataclasses-json->llama-index-core<0.11.0,>=0.10.24->llama-index-llms-mistralai) (24.0)\n",
      "Requirement already satisfied: python-dateutil>=2.8.2 in /Users/omprakash/lama-index/.venv/lib/python3.9/site-packages (from pandas->llama-index-core<0.11.0,>=0.10.24->llama-index-llms-mistralai) (2.9.0.post0)\n",
      "Requirement already satisfied: pytz>=2020.1 in /Users/omprakash/lama-index/.venv/lib/python3.9/site-packages (from pandas->llama-index-core<0.11.0,>=0.10.24->llama-index-llms-mistralai) (2024.1)\n",
      "Requirement already satisfied: tzdata>=2022.7 in /Users/omprakash/lama-index/.venv/lib/python3.9/site-packages (from pandas->llama-index-core<0.11.0,>=0.10.24->llama-index-llms-mistralai) (2024.1)\n",
      "Requirement already satisfied: six>=1.5 in /Users/omprakash/lama-index/.venv/lib/python3.9/site-packages (from python-dateutil>=2.8.2->pandas->llama-index-core<0.11.0,>=0.10.24->llama-index-llms-mistralai) (1.16.0)\n",
      "\u001b[33mWARNING: You are using pip version 21.2.4; however, version 24.0 is available.\n",
      "You should consider upgrading via the '/Users/omprakash/lama-index/.venv/bin/python -m pip install --upgrade pip' command.\u001b[0m\n",
      "Note: you may need to restart the kernel to use updated packages.\n"
     ]
    }
   ],
   "source": [
    "%pip install llama-index\n",
    "%pip install llama-index-llms-anthropic\n",
    "%pip install llama-index-llms-mistralai"
   ]
  },
  {
   "cell_type": "markdown",
   "id": "96628c7b",
   "metadata": {},
   "source": [
    "## Simple Calculator Tools"
   ]
  },
  {
   "cell_type": "code",
   "execution_count": 3,
   "id": "43da256b",
   "metadata": {},
   "outputs": [],
   "source": [
    "from llama_index.core.agent import ReActAgent\n",
    "from llama_index.llms.openai import OpenAI\n",
    "from llama_index.core.llms import ChatMessage\n",
    "from llama_index.core.tools import BaseTool, FunctionTool"
   ]
  },
  {
   "cell_type": "markdown",
   "id": "89c82600",
   "metadata": {},
   "source": [
    "### Define Tools"
   ]
  },
  {
   "cell_type": "code",
   "execution_count": 5,
   "id": "9b68d5e3",
   "metadata": {},
   "outputs": [],
   "source": [
    "def multiply(a: int, b:int) -> int:\n",
    "    return a*b\n",
    "\n",
    "def add(a:int, b:int) -> int:\n",
    "    return a+b\n",
    "\n",
    "def substract(a:int, b:int) -> int:\n",
    "    return a-b"
   ]
  },
  {
   "cell_type": "code",
   "execution_count": 6,
   "id": "5728ab83",
   "metadata": {},
   "outputs": [],
   "source": [
    "multiply_tool = FunctionTool.from_defaults(fn=multiply)\n",
    "add_tool = FunctionTool.from_defaults(fn=add)\n",
    "substract_tool = FunctionTool.from_defaults(fn=substract)"
   ]
  },
  {
   "cell_type": "markdown",
   "id": "e3b5e0f8",
   "metadata": {},
   "source": [
    "### GPT-4"
   ]
  },
  {
   "cell_type": "code",
   "execution_count": 13,
   "id": "2c8c02a1",
   "metadata": {},
   "outputs": [],
   "source": [
    "llm = OpenAI(model='gpt-3.5-turbo')\n",
    "agent = ReActAgent.from_tools([multiply_tool, add_tool, substract_tool], llm=llm, verbose=True)"
   ]
  },
  {
   "cell_type": "code",
   "execution_count": 15,
   "id": "9c26743a",
   "metadata": {},
   "outputs": [
    {
     "name": "stdout",
     "output_type": "stream",
     "text": [
      "\u001b[1;3;38;5;200mThought: The current language of the user is: English. I need to use a tool to help me answer the question.\n",
      "Action: add\n",
      "Action Input: {'a': 20, 'b': 8}\n",
      "\u001b[0m\u001b[1;3;34mObservation: 28\n",
      "\u001b[0m\u001b[1;3;38;5;200mThought: I can answer without using any more tools. I'll use the user's language to answer\n",
      "Answer: The result of 20 + (2 * 4) step by step is 20 + 8 = 28.\n",
      "\u001b[0m"
     ]
    }
   ],
   "source": [
    "response = agent.chat('what is 20+(2*4)? Calculate step by step. Never answer without any tool. If you do not have tool for certain task. Say, I need <tool_name> to execute this task.')"
   ]
  },
  {
   "cell_type": "code",
   "execution_count": 16,
   "id": "d366ac62",
   "metadata": {},
   "outputs": [
    {
     "name": "stdout",
     "output_type": "stream",
     "text": [
      "The result of 20 + (2 * 4) step by step is 20 + 8 = 28.\n"
     ]
    }
   ],
   "source": [
    "print(response)"
   ]
  },
  {
   "cell_type": "markdown",
   "id": "1409052d",
   "metadata": {},
   "source": [
    "## Check Prompts"
   ]
  },
  {
   "cell_type": "code",
   "execution_count": null,
   "id": "c86d8170",
   "metadata": {},
   "outputs": [],
   "source": [
    "prompt_dict = agent.get_prompts()\n",
    "for k,v in prompt_dict.items():\n",
    "    print(f\"Prompt: {k}, Value: {v.template}\")"
   ]
  },
  {
   "cell_type": "markdown",
   "id": "a713ec40",
   "metadata": {},
   "source": [
    "# RAG QueryEngine Tools"
   ]
  },
  {
   "cell_type": "code",
   "execution_count": 37,
   "id": "4338f983",
   "metadata": {},
   "outputs": [],
   "source": [
    "from llama_index.core import (\n",
    "    SimpleDirectoryReader,\n",
    "    VectorStoreIndex,\n",
    "    StorageContext,\n",
    "    load_index_from_storage,\n",
    "    Settings\n",
    ")\n",
    "from llama_index.core.embeddings import resolve_embed_model\n",
    "\n",
    "from llama_index.core.tools import QueryEngineTool, ToolMetadata"
   ]
  },
  {
   "cell_type": "code",
   "execution_count": 38,
   "id": "bb34aff0",
   "metadata": {},
   "outputs": [],
   "source": [
    "Settings.embed_model = resolve_embed_model(\"local:BAAI/bge-small-en-v1.5\")"
   ]
  },
  {
   "cell_type": "code",
   "execution_count": 39,
   "id": "bc0838f5",
   "metadata": {},
   "outputs": [],
   "source": [
    "try:\n",
    "    storage_context = StorageContext.from_defaults(\n",
    "        persist_dir=\"./storage/lyft\"\n",
    "    )\n",
    "    lyft_index = load_index_from_storage(storage_context)\n",
    "\n",
    "    storage_context = StorageContext.from_defaults(\n",
    "        persist_dir=\"./storage/uber\"\n",
    "    )\n",
    "    uber_index = load_index_from_storage(storage_context)\n",
    "\n",
    "    index_loaded = True\n",
    "except:\n",
    "    index_loaded = False"
   ]
  },
  {
   "cell_type": "code",
   "execution_count": 26,
   "id": "568a5993",
   "metadata": {},
   "outputs": [],
   "source": [
    "import requests\n",
    "import os\n",
    "\n",
    "os.makedirs('data/10k/', exist_ok=True)\n",
    "\n",
    "urls = [\n",
    "    'https://raw.githubusercontent.com/run-llama/llama_index/main/docs/docs/examples/data/10k/uber_2021.pdf',\n",
    "    'https://raw.githubusercontent.com/run-llama/llama_index/main/docs/docs/examples/data/10k/lyft_2021.pdf'\n",
    "]\n",
    "\n",
    "for url in urls:\n",
    "    response = requests.get(url)\n",
    "    filename = os.path.join('data/10k/', url.split('/')[-1])\n",
    "    with open(filename, 'wb') as f:\n",
    "        f.write(response.content)"
   ]
  },
  {
   "cell_type": "code",
   "execution_count": 40,
   "id": "6d1cc769",
   "metadata": {},
   "outputs": [],
   "source": [
    "Settings.embed_model = resolve_embed_model(\"local:BAAI/bge-small-en-v1.5\")"
   ]
  },
  {
   "cell_type": "code",
   "execution_count": 41,
   "id": "822affff",
   "metadata": {},
   "outputs": [],
   "source": [
    "if not index_loaded:\n",
    "    # load data\n",
    "    lyft_docs = SimpleDirectoryReader(\n",
    "        input_files=[\"./data/10k/lyft_2021.pdf\"]\n",
    "    ).load_data()\n",
    "    uber_docs = SimpleDirectoryReader(\n",
    "        input_files=[\"./data/10k/uber_2021.pdf\"]\n",
    "    ).load_data()\n",
    "\n",
    "    # build index\n",
    "    lyft_index = VectorStoreIndex.from_documents(lyft_docs)\n",
    "    uber_index = VectorStoreIndex.from_documents(uber_docs)\n",
    "\n",
    "    # persist index\n",
    "    lyft_index.storage_context.persist(persist_dir=\"./storage/lyft\")\n",
    "    uber_index.storage_context.persist(persist_dir=\"./storage/uber\")"
   ]
  },
  {
   "cell_type": "code",
   "execution_count": 42,
   "id": "e0ca9202",
   "metadata": {},
   "outputs": [],
   "source": [
    "lyft_engine = lyft_index.as_query_engine(similarity_top_k=3)\n",
    "uber_engine = uber_index.as_query_engine(similarity_top_k=3)"
   ]
  },
  {
   "cell_type": "code",
   "execution_count": 43,
   "id": "41fbc341",
   "metadata": {},
   "outputs": [],
   "source": [
    "query_engine_tools = [\n",
    "    QueryEngineTool(\n",
    "        query_engine=lyft_engine,\n",
    "        metadata=ToolMetadata(\n",
    "            name=\"lyft_10k\",\n",
    "            description=(\n",
    "                \"Provides information about Lyft financials for year 2021. \"\n",
    "                \"Use a detailed plain text question as input to the tool.\"\n",
    "            ),\n",
    "        ),\n",
    "    ),\n",
    "    QueryEngineTool(\n",
    "        query_engine=uber_engine,\n",
    "        metadata=ToolMetadata(\n",
    "            name=\"uber_10k\",\n",
    "            description=(\n",
    "                \"Provides information about Uber financials for year 2021. \"\n",
    "                \"Use a detailed plain text question as input to the tool.\"\n",
    "            ),\n",
    "        ),\n",
    "    ),\n",
    "]"
   ]
  },
  {
   "cell_type": "code",
   "execution_count": 44,
   "id": "40a4d7b7",
   "metadata": {},
   "outputs": [],
   "source": [
    "llm = OpenAI(model=\"gpt-3.5-turbo\")\n",
    "agent = ReActAgent.from_tools(\n",
    "    query_engine_tools,\n",
    "    llm=llm,\n",
    "    verbose=True,\n",
    ")"
   ]
  },
  {
   "cell_type": "code",
   "execution_count": 45,
   "id": "67382427",
   "metadata": {},
   "outputs": [
    {
     "name": "stdout",
     "output_type": "stream",
     "text": [
      "\u001b[1;3;38;5;200mThought: I need to use the financial tools to gather information about the revenue growth of Uber and Lyft in 2021.\n",
      "Action: uber_10k\n",
      "Action Input: {'input': 'revenue growth in 2021'}\n",
      "\u001b[0m\u001b[1;3;34mObservation: Revenue grew by $6.3 billion in 2021, representing a 57% increase compared to the previous year.\n",
      "\u001b[0m\u001b[1;3;38;5;200mThought: I have obtained information about Uber's revenue growth in 2021. Now, I need to gather similar information for Lyft to compare the revenue growth of both companies.\n",
      "Action: lyft_10k\n",
      "Action Input: {'input': 'revenue growth in 2021'}\n",
      "\u001b[0m\u001b[1;3;34mObservation: Revenue grew by $843.6 million in 2021 compared to the prior year. This increase was primarily due to a significant rise in the number of Active Riders in 2021, driven by wider vaccine distribution and reopening of more communities. Additionally, revenue in 2021 was positively impacted by revenues from licensing and data access agreements that began during the year.\n",
      "\u001b[0m\u001b[1;3;38;5;200mThought: I have gathered information about both Uber and Lyft's revenue growth in 2021. Now, I can compare the revenue growth of both companies to provide an answer.\n",
      "Answer: In 2021, Uber's revenue grew by $6.3 billion, representing a 57% increase compared to the previous year. On the other hand, Lyft's revenue grew by $843.6 million in 2021. Uber experienced a larger absolute growth in revenue compared to Lyft, but the percentage increase was higher for Lyft.\n",
      "\u001b[0m"
     ]
    }
   ],
   "source": [
    "response = agent.chat(\n",
    "    \"Compare the revenue growth of Uber and Lyft in 2021.\"\n",
    ")"
   ]
  },
  {
   "cell_type": "code",
   "execution_count": 35,
   "id": "79b1c048",
   "metadata": {},
   "outputs": [
    {
     "name": "stdout",
     "output_type": "stream",
     "text": [
      "In 2021, Uber experienced a higher revenue growth of 57% compared to Lyft, which had a revenue growth of 36%.\n"
     ]
    }
   ],
   "source": [
    "print(response)"
   ]
  },
  {
   "cell_type": "code",
   "execution_count": null,
   "id": "82b5df19",
   "metadata": {},
   "outputs": [],
   "source": []
  }
 ],
 "metadata": {
  "kernelspec": {
   "display_name": ".venv",
   "language": "python",
   "name": "python3"
  },
  "language_info": {
   "codemirror_mode": {
    "name": "ipython",
    "version": 3
   },
   "file_extension": ".py",
   "mimetype": "text/x-python",
   "name": "python",
   "nbconvert_exporter": "python",
   "pygments_lexer": "ipython3",
   "version": "3.9.6"
  }
 },
 "nbformat": 4,
 "nbformat_minor": 5
}
