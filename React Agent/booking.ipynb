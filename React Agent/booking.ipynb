{
 "cells": [
  {
   "cell_type": "markdown",
   "metadata": {},
   "source": [
    "# Controlling Agent Reasoning Loop with `return_direct` in Tools\n",
    "\n",
    "\n",
    "In this tutorial, we'll explore how to control the reasoning loop of an agent using the `return_direct` option available in tools.\n",
    "\n",
    "This feature plays a crucial role in streamlining the agent's decision-making process, particularly when immediate output from a single tool is sufficient for the task at hand rather than sending the output of tool to LLM for final response.\n",
    "\n",
    "Setting `return_direct` to True impacts the agent's reasoning loop. When activated and the corresponding tool is called independently, the loop concludes, and the output from the tool is directly returned.\n",
    "\n",
    "By the end of this tutorial, you'll have a comprehensive understanding of how to leverage the `return_direct` option to enhance the efficiency of an agent's reasoning loop."
   ]
  },
  {
   "cell_type": "code",
   "execution_count": 1,
   "metadata": {},
   "outputs": [
    {
     "name": "stderr",
     "output_type": "stream",
     "text": [
      "/Users/omprakash/lama-index/.venv/lib/python3.9/site-packages/urllib3/__init__.py:35: NotOpenSSLWarning: urllib3 v2 only supports OpenSSL 1.1.1+, currently the 'ssl' module is compiled with 'LibreSSL 2.8.3'. See: https://github.com/urllib3/urllib3/issues/3020\n",
      "  warnings.warn(\n",
      "/Users/omprakash/lama-index/.venv/lib/python3.9/site-packages/tqdm/auto.py:21: TqdmWarning: IProgress not found. Please update jupyter and ipywidgets. See https://ipywidgets.readthedocs.io/en/stable/user_install.html\n",
      "  from .autonotebook import tqdm as notebook_tqdm\n"
     ]
    }
   ],
   "source": [
    "from typing import Optional\n",
    "\n",
    "from llama_index.llms.openai import OpenAI\n",
    "from llama_index.core.llms import ChatMessage\n",
    "from llama_index.core.tools import BaseTool, FunctionTool\n",
    "from llama_index.core.agent import FunctionCallingAgentWorker\n",
    "from llama_index.core.agent import AgentRunner\n",
    "from llama_index.core.bridge.pydantic import BaseModel"
   ]
  },
  {
   "cell_type": "code",
   "execution_count": 1,
   "metadata": {},
   "outputs": [
    {
     "ename": "NameError",
     "evalue": "name 'OpenAI' is not defined",
     "output_type": "error",
     "traceback": [
      "\u001b[0;31m---------------------------------------------------------------------------\u001b[0m",
      "\u001b[0;31mNameError\u001b[0m                                 Traceback (most recent call last)",
      "Cell \u001b[0;32mIn[1], line 1\u001b[0m\n\u001b[0;32m----> 1\u001b[0m llm \u001b[38;5;241m=\u001b[39m \u001b[43mOpenAI\u001b[49m(model\u001b[38;5;241m=\u001b[39m\u001b[38;5;124m'\u001b[39m\u001b[38;5;124mgpt-3.5-turbo\u001b[39m\u001b[38;5;124m'\u001b[39m)\n",
      "\u001b[0;31mNameError\u001b[0m: name 'OpenAI' is not defined"
     ]
    }
   ],
   "source": []
  },
  {
   "cell_type": "markdown",
   "metadata": {},
   "source": [
    "Here, we are defining a system to manage restaurant bookings using various functions and integrating them into a tool-based architecture.\n",
    "\n",
    "The `Booking` class is a Pydantic model used to track and represent the state of a booking. It includes optional fields like name, email, phone, date, and time, allowing for flexible data entry.\n",
    "\n",
    "`get_booking_state(user_id: str):` Retrieves the x state of a booking using the booking ID. It outputs the booking's details or a message if the ID is not found.\n",
    "\n",
    "`update_booking(user_id: str, property: str, value: str):` Updates a specific property of a booking. It's designed to modify only the provided details.\n",
    "\n",
    "`create_booking(user_id: str):` Initializes a new booking and stores it under a unique ID, prompting the user to provide further details.\n",
    "\n",
    "`confirm_booking(user_id: str):` Finalizes the booking after ensuring all necessary information is provided. If any detail is missing, it raises an error."
   ]
  },
  {
   "cell_type": "code",
   "execution_count": 3,
   "metadata": {},
   "outputs": [],
   "source": [
    "# we will store booking under random IDs\n",
    "bookings = {}\n",
    "\n",
    "class Booking(BaseModel):\n",
    "    name: Optional[str] = None\n",
    "    email: Optional[str] = None\n",
    "    phone: Optional[str] = None\n",
    "    date: Optional[str] = None\n",
    "    time: Optional[str] = None\n",
    "\n",
    "\n",
    "def get_booking_state(user_id: str) -> str:\n",
    "    \"\"\"Get the current state of a booking for a given booking ID.\"\"\"\n",
    "    try:\n",
    "        return str(bookings[user_id].dict())\n",
    "    except:\n",
    "        return f\"Booking ID {user_id} not found\"\n",
    "\n",
    "\n",
    "def update_booking(user_id: str, property: str, value: str) -> str:\n",
    "    \"\"\"Update a property of a booking for a given booking ID. Only enter details that are explicitly provided.\"\"\"\n",
    "    booking = bookings[user_id]\n",
    "    setattr(booking, property, value)\n",
    "    return f\"Booking ID {user_id} updated with {property} = {value}\"\n",
    "\n",
    "\n",
    "def create_booking(user_id: str) -> str:\n",
    "    \"\"\"Create a new booking and return the booking ID.\"\"\"\n",
    "    bookings[user_id] = Booking()\n",
    "    return \"Booking created, but not yet confirmed. Please provide your name, email, phone, date, and time.\"\n",
    "\n",
    "\n",
    "def confirm_booking(user_id: str) -> str:\n",
    "    \"\"\"Confirm a booking for a given booking ID.\"\"\"\n",
    "    booking = bookings[user_id]\n",
    "\n",
    "    if booking.name is None:\n",
    "        raise ValueError(\"Please provide your name.\")\n",
    "\n",
    "    if booking.email is None:\n",
    "        raise ValueError(\"Please provide your email.\")\n",
    "\n",
    "    if booking.phone is None:\n",
    "        raise ValueError(\"Please provide your phone number.\")\n",
    "\n",
    "    if booking.date is None:\n",
    "        raise ValueError(\"Please provide the date of your booking.\")\n",
    "\n",
    "    if booking.time is None:\n",
    "        raise ValueError(\"Please provide the time of your booking.\")\n",
    "\n",
    "    return f\"Booking ID {user_id} confirmed!\""
   ]
  },
  {
   "cell_type": "code",
   "execution_count": 4,
   "metadata": {},
   "outputs": [],
   "source": [
    "get_booking_state_tool = FunctionTool.from_defaults(fn=get_booking_state)\n",
    "update_booking_tool = FunctionTool.from_defaults(fn=update_booking)\n",
    "create_booking_tool = FunctionTool.from_defaults(fn=create_booking,\n",
    "                                                 return_direct=True)\n",
    "confirm_booking_tool = FunctionTool.from_defaults(fn=confirm_booking,\n",
    "                                                  return_direct=True)"
   ]
  },
  {
   "cell_type": "code",
   "execution_count": 9,
   "metadata": {},
   "outputs": [],
   "source": [
    "user = \"user123\"\n",
    "prefix_messages = [\n",
    "    ChatMessage(\n",
    "        role=\"system\",\n",
    "        content=(\n",
    "            f\"You are now connected to the booking system and helping {user} with making a booking. \"\n",
    "            \"Only enter details that the user has explicitly provided. \"\n",
    "            \"Do not make up any details.\"\n",
    "        ),\n",
    "    )\n",
    "]"
   ]
  },
  {
   "cell_type": "code",
   "execution_count": 10,
   "metadata": {},
   "outputs": [],
   "source": [
    "worker = FunctionCallingAgentWorker(\n",
    "    tools=[\n",
    "        get_booking_state_tool,\n",
    "        update_booking_tool,\n",
    "        create_booking_tool,\n",
    "        confirm_booking_tool,\n",
    "    ],\n",
    "    llm=llm,\n",
    "    prefix_messages=prefix_messages,\n",
    "    max_function_calls=10,\n",
    "    allow_parallel_tool_calls=False,\n",
    "    verbose=True,\n",
    ")\n",
    "\n",
    "agent = AgentRunner(worker)"
   ]
  },
  {
   "cell_type": "code",
   "execution_count": 11,
   "metadata": {},
   "outputs": [
    {
     "name": "stdout",
     "output_type": "stream",
     "text": [
      "Added user message to memory: Hello! I would like to make a booking.\n",
      "=== Calling Function ===\n",
      "Calling function: create_booking with args: {\"user_id\": \"user123\"}\n",
      "=== Function Output ===\n",
      "Booking created, but not yet confirmed. Please provide your name, email, phone, date, and time.\n"
     ]
    }
   ],
   "source": [
    "response = agent.chat(\"Hello! I would like to make a booking.\")"
   ]
  },
  {
   "cell_type": "code",
   "execution_count": 12,
   "metadata": {},
   "outputs": [
    {
     "name": "stdout",
     "output_type": "stream",
     "text": [
      "Added user message to memory: Sure! My name is Ravi, and my email is ravi@gmail.com\n",
      "=== Calling Function ===\n",
      "Calling function: update_booking with args: {\"user_id\": \"user123\", \"property\": \"name\", \"value\": \"Ravi\"}\n",
      "=== Function Output ===\n",
      "Booking ID user123 updated with name = Ravi\n",
      "=== Calling Function ===\n",
      "Calling function: update_booking with args: {\"user_id\": \"user123\", \"property\": \"email\", \"value\": \"ravi@gmail.com\"}\n",
      "=== Function Output ===\n",
      "Booking ID user123 updated with email = ravi@gmail.com\n",
      "=== LLM Response ===\n",
      "Thank you for providing your name and email. Could you please provide your phone number, preferred date, and time for the booking?\n"
     ]
    }
   ],
   "source": [
    "response = agent.chat(\"Sure! My name is Ravi, and my email is ravi@gmail.com\")"
   ]
  },
  {
   "cell_type": "code",
   "execution_count": 13,
   "metadata": {},
   "outputs": [
    {
     "name": "stdout",
     "output_type": "stream",
     "text": [
      "Added user message to memory: Cool. Phone number is 39429384923, preferred data and time are April 20th and 12PM respectively.\n",
      "=== Calling Function ===\n",
      "Calling function: update_booking with args: {\"user_id\": \"user123\", \"property\": \"phone\", \"value\": \"39429384923\"}\n",
      "=== Function Output ===\n",
      "Booking ID user123 updated with phone = 39429384923\n",
      "=== Calling Function ===\n",
      "Calling function: update_booking with args: {\"user_id\": \"user123\", \"property\": \"date\", \"value\": \"April 20th\"}\n",
      "=== Function Output ===\n",
      "Booking ID user123 updated with date = April 20th\n",
      "=== Calling Function ===\n",
      "Calling function: update_booking with args: {\"user_id\": \"user123\", \"property\": \"time\", \"value\": \"12PM\"}\n",
      "=== Function Output ===\n",
      "Booking ID user123 updated with time = 12PM\n",
      "=== LLM Response ===\n",
      "Thank you for providing all the details. Your booking information is as follows:\n",
      "- Name: Ravi\n",
      "- Email: ravi@gmail.com\n",
      "- Phone: 39429384923\n",
      "- Date: April 20th\n",
      "- Time: 12PM\n",
      "\n",
      "I will now confirm your booking.\n",
      "=== Calling Function ===\n",
      "Calling function: confirm_booking with args: {\"user_id\": \"user123\"}\n",
      "=== Function Output ===\n",
      "Booking ID user123 confirmed!\n"
     ]
    }
   ],
   "source": [
    "response = agent.chat(\"Cool. Phone number is 39429384923, preferred data and time are April 20th and 12PM respectively.\")"
   ]
  },
  {
   "cell_type": "code",
   "execution_count": 14,
   "metadata": {},
   "outputs": [
    {
     "data": {
      "text/plain": [
       "{'user123': Booking(name='Ravi', email='ravi@gmail.com', phone='39429384923', date='April 20th', time='12PM')}"
      ]
     },
     "execution_count": 14,
     "metadata": {},
     "output_type": "execute_result"
    }
   ],
   "source": [
    "bookings"
   ]
  },
  {
   "cell_type": "code",
   "execution_count": 15,
   "metadata": {},
   "outputs": [
    {
     "name": "stdout",
     "output_type": "stream",
     "text": [
      "Added user message to memory: provide booking details of user user123\n",
      "=== Calling Function ===\n",
      "Calling function: get_booking_state with args: {\"user_id\": \"user123\"}\n",
      "=== Function Output ===\n",
      "{'name': 'Ravi', 'email': 'ravi@gmail.com', 'phone': '39429384923', 'date': 'April 20th', 'time': '12PM'}\n",
      "=== LLM Response ===\n",
      "The booking details for user123 are as follows:\n",
      "- Name: Ravi\n",
      "- Email: ravi@gmail.com\n",
      "- Phone: 39429384923\n",
      "- Date: April 20th\n",
      "- Time: 12PM\n",
      "\n",
      "Is there anything else you would like to know or do regarding this booking?\n"
     ]
    }
   ],
   "source": [
    "response = agent.chat(\"provide booking details of user user123\")"
   ]
  },
  {
   "cell_type": "code",
   "execution_count": 16,
   "metadata": {},
   "outputs": [
    {
     "name": "stdout",
     "output_type": "stream",
     "text": [
      "Added user message to memory: provide booking details of user user111\n",
      "=== Calling Function ===\n",
      "Calling function: get_booking_state with args: {\"user_id\": \"user111\"}\n",
      "=== Function Output ===\n",
      "Booking ID user111 not found\n",
      "=== LLM Response ===\n",
      "I couldn't find any booking details for user111. If you have any other requests or need assistance with a different booking, feel free to let me know.\n"
     ]
    }
   ],
   "source": [
    "response = agent.chat(\"provide booking details of user user111\")"
   ]
  },
  {
   "cell_type": "markdown",
   "metadata": {},
   "source": [
    "### Experiment 2 \n",
    "This uses return_direct=True"
   ]
  },
  {
   "cell_type": "code",
   "execution_count": 17,
   "metadata": {},
   "outputs": [],
   "source": [
    "get_booking_state_tool = FunctionTool.from_defaults(fn=get_booking_state,\n",
    "                                                 return_direct=True)\n",
    "update_booking_tool = FunctionTool.from_defaults(fn=update_booking)\n",
    "create_booking_tool = FunctionTool.from_defaults(fn=create_booking,\n",
    "                                                 return_direct=True)\n",
    "confirm_booking_tool = FunctionTool.from_defaults(fn=confirm_booking,\n",
    "                                                  return_direct=True)"
   ]
  },
  {
   "cell_type": "code",
   "execution_count": 18,
   "metadata": {},
   "outputs": [],
   "source": [
    "user = \"user123\"\n",
    "prefix_messages = [\n",
    "    ChatMessage(\n",
    "        role=\"system\",\n",
    "        content=(\n",
    "            f\"You are now connected to the booking system and helping {user} with making a booking. \"\n",
    "            \"Only enter details that the user has explicitly provided. \"\n",
    "            \"Do not make up any details.\"\n",
    "        ),\n",
    "    )\n",
    "]"
   ]
  },
  {
   "cell_type": "code",
   "execution_count": 19,
   "metadata": {},
   "outputs": [],
   "source": [
    "worker = FunctionCallingAgentWorker(\n",
    "    tools=[\n",
    "        get_booking_state_tool,\n",
    "        update_booking_tool,\n",
    "        create_booking_tool,\n",
    "        confirm_booking_tool,\n",
    "    ],\n",
    "    llm=llm,\n",
    "    prefix_messages=prefix_messages,\n",
    "    max_function_calls=10,\n",
    "    allow_parallel_tool_calls=False,\n",
    "    verbose=True,\n",
    ")\n",
    "\n",
    "agent = AgentRunner(worker)"
   ]
  },
  {
   "cell_type": "code",
   "execution_count": 20,
   "metadata": {},
   "outputs": [
    {
     "name": "stdout",
     "output_type": "stream",
     "text": [
      "Added user message to memory: Hello! I would like to make a booking.\n",
      "=== Calling Function ===\n",
      "Calling function: create_booking with args: {\"user_id\": \"user123\"}\n",
      "=== Function Output ===\n",
      "Booking created, but not yet confirmed. Please provide your name, email, phone, date, and time.\n"
     ]
    }
   ],
   "source": [
    "response = agent.chat(\"Hello! I would like to make a booking.\")"
   ]
  },
  {
   "cell_type": "code",
   "execution_count": 21,
   "metadata": {},
   "outputs": [
    {
     "name": "stdout",
     "output_type": "stream",
     "text": [
      "Added user message to memory: Sure! My name is Ravi, and my email is ravi@gmail.com\n",
      "=== Calling Function ===\n",
      "Calling function: update_booking with args: {\"user_id\": \"user123\", \"property\": \"name\", \"value\": \"Ravi\"}\n",
      "=== Function Output ===\n",
      "Booking ID user123 updated with name = Ravi\n",
      "=== Calling Function ===\n",
      "Calling function: update_booking with args: {\"user_id\": \"user123\", \"property\": \"email\", \"value\": \"ravi@gmail.com\"}\n",
      "=== Function Output ===\n",
      "Booking ID user123 updated with email = ravi@gmail.com\n",
      "=== LLM Response ===\n",
      "Could you please provide your phone number, date, and time for the booking?\n"
     ]
    }
   ],
   "source": [
    "response = agent.chat(\"Sure! My name is Ravi, and my email is ravi@gmail.com\")"
   ]
  },
  {
   "cell_type": "code",
   "execution_count": 22,
   "metadata": {},
   "outputs": [
    {
     "name": "stdout",
     "output_type": "stream",
     "text": [
      "Added user message to memory: Cool. Phone number is 39429384923, preferred data and time are April 20th and 12PM respectively.\n",
      "=== Calling Function ===\n",
      "Calling function: update_booking with args: {\"user_id\": \"user123\", \"property\": \"phone\", \"value\": \"39429384923\"}\n",
      "=== Function Output ===\n",
      "Booking ID user123 updated with phone = 39429384923\n",
      "=== Calling Function ===\n",
      "Calling function: update_booking with args: {\"user_id\": \"user123\", \"property\": \"date\", \"value\": \"April 20th\"}\n",
      "=== Function Output ===\n",
      "Booking ID user123 updated with date = April 20th\n",
      "=== Calling Function ===\n",
      "Calling function: update_booking with args: {\"user_id\": \"user123\", \"property\": \"time\", \"value\": \"12PM\"}\n",
      "=== Function Output ===\n",
      "Booking ID user123 updated with time = 12PM\n",
      "=== LLM Response ===\n",
      "Thank you for providing all the details. Your booking is almost complete. Would you like to confirm the booking now?\n"
     ]
    }
   ],
   "source": [
    "response = agent.chat(\"Cool. Phone number is 39429384923, preferred data and time are April 20th and 12PM respectively.\")"
   ]
  },
  {
   "cell_type": "code",
   "execution_count": 23,
   "metadata": {},
   "outputs": [
    {
     "name": "stdout",
     "output_type": "stream",
     "text": [
      "Added user message to memory: provide the booking details\n",
      "=== Calling Function ===\n",
      "Calling function: get_booking_state with args: {\"user_id\": \"user123\"}\n",
      "=== Function Output ===\n",
      "{'name': 'Ravi', 'email': 'ravi@gmail.com', 'phone': '39429384923', 'date': 'April 20th', 'time': '12PM'}\n"
     ]
    }
   ],
   "source": [
    "response = agent.chat(\"provide the booking details\")"
   ]
  },
  {
   "cell_type": "code",
   "execution_count": null,
   "metadata": {},
   "outputs": [],
   "source": []
  }
 ],
 "metadata": {
  "kernelspec": {
   "display_name": ".venv",
   "language": "python",
   "name": "python3"
  },
  "language_info": {
   "codemirror_mode": {
    "name": "ipython",
    "version": 3
   },
   "file_extension": ".py",
   "mimetype": "text/x-python",
   "name": "python",
   "nbconvert_exporter": "python",
   "pygments_lexer": "ipython3",
   "version": "3.9.6"
  }
 },
 "nbformat": 4,
 "nbformat_minor": 2
}
